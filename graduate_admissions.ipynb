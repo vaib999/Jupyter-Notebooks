{
 "cells": [
  {
   "cell_type": "markdown",
   "metadata": {},
   "source": [
    "# Purpose\n",
    "To apply for a master's degree is a very expensive and intensive work. With this kernel, students will guess their capacities and they will decide whether to apply for a master's degree or not."
   ]
  },
  {
   "cell_type": "markdown",
   "metadata": {},
   "source": [
    "# Dataset\n",
    "This dataset is created for prediction of graduate admissions and the dataset link is below:\n",
    "\n",
    "https://www.kaggle.com/mohansacharya/graduate-admissions\n",
    "Features in the dataset:\n",
    "\n",
    "GRE Scores (290 to 340)\n",
    "TOEFL Scores (92 to 120)\n",
    "University Rating (1 to 5)\n",
    "Statement of Purpose (1 to 5)\n",
    "Letter of Recommendation Strength (1 to 5)\n",
    "Undergraduate CGPA (6.8 to 9.92)\n",
    "Research Experience (0 or 1)\n",
    "Chance of Admit (0.34 to 0.97)"
   ]
  },
  {
   "cell_type": "code",
   "execution_count": 1,
   "metadata": {},
   "outputs": [],
   "source": [
    "import pandas as pd\n",
    "import matplotlib.pyplot as plt\n",
    "import numpy as np\n",
    "import seaborn as sns\n",
    "import sys\n",
    "import os"
   ]
  },
  {
   "cell_type": "code",
   "execution_count": 3,
   "metadata": {},
   "outputs": [],
   "source": [
    "df = pd.read_csv(\"Admission_Predict_Ver1.1.csv\",sep = \",\")"
   ]
  },
  {
   "cell_type": "markdown",
   "metadata": {},
   "source": [
    "# Basic Information about Dataset\n",
    "Some important information:\n",
    "\n",
    "There are 9 columns: Serial No., GRE Score, TOEFL Score, University Rating, SOP, LOR , CGPA, Research, Chance of Admit\n",
    "There are no null records. It's good.\n",
    "There are 400 samples in total. That's enough."
   ]
  },
  {
   "cell_type": "code",
   "execution_count": 4,
   "metadata": {},
   "outputs": [
    {
     "data": {
      "text/plain": [
       "Index(['Serial No.', 'GRE Score', 'TOEFL Score', 'University Rating', 'SOP',\n",
       "       'LOR ', 'CGPA', 'Research', 'Chance of Admit '],\n",
       "      dtype='object')"
      ]
     },
     "execution_count": 4,
     "metadata": {},
     "output_type": "execute_result"
    }
   ],
   "source": [
    "df.columns"
   ]
  },
  {
   "cell_type": "code",
   "execution_count": 5,
   "metadata": {},
   "outputs": [],
   "source": [
    "df=df.rename(columns = {'Chance of Admit ':'Chance of Admit'})"
   ]
  },
  {
   "cell_type": "code",
   "execution_count": 6,
   "metadata": {},
   "outputs": [
    {
     "name": "stdout",
     "output_type": "stream",
     "text": [
      "<class 'pandas.core.frame.DataFrame'>\n",
      "RangeIndex: 500 entries, 0 to 499\n",
      "Data columns (total 9 columns):\n",
      "Serial No.           500 non-null int64\n",
      "GRE Score            500 non-null int64\n",
      "TOEFL Score          500 non-null int64\n",
      "University Rating    500 non-null int64\n",
      "SOP                  500 non-null float64\n",
      "LOR                  500 non-null float64\n",
      "CGPA                 500 non-null float64\n",
      "Research             500 non-null int64\n",
      "Chance of Admit      500 non-null float64\n",
      "dtypes: float64(4), int64(5)\n",
      "memory usage: 35.2 KB\n"
     ]
    }
   ],
   "source": [
    "df.info()"
   ]
  },
  {
   "cell_type": "code",
   "execution_count": 7,
   "metadata": {},
   "outputs": [
    {
     "data": {
      "text/html": [
       "<div>\n",
       "<style scoped>\n",
       "    .dataframe tbody tr th:only-of-type {\n",
       "        vertical-align: middle;\n",
       "    }\n",
       "\n",
       "    .dataframe tbody tr th {\n",
       "        vertical-align: top;\n",
       "    }\n",
       "\n",
       "    .dataframe thead th {\n",
       "        text-align: right;\n",
       "    }\n",
       "</style>\n",
       "<table border=\"1\" class=\"dataframe\">\n",
       "  <thead>\n",
       "    <tr style=\"text-align: right;\">\n",
       "      <th></th>\n",
       "      <th>Serial No.</th>\n",
       "      <th>GRE Score</th>\n",
       "      <th>TOEFL Score</th>\n",
       "      <th>University Rating</th>\n",
       "      <th>SOP</th>\n",
       "      <th>LOR</th>\n",
       "      <th>CGPA</th>\n",
       "      <th>Research</th>\n",
       "      <th>Chance of Admit</th>\n",
       "    </tr>\n",
       "  </thead>\n",
       "  <tbody>\n",
       "    <tr>\n",
       "      <th>0</th>\n",
       "      <td>1</td>\n",
       "      <td>337</td>\n",
       "      <td>118</td>\n",
       "      <td>4</td>\n",
       "      <td>4.5</td>\n",
       "      <td>4.5</td>\n",
       "      <td>9.65</td>\n",
       "      <td>1</td>\n",
       "      <td>0.92</td>\n",
       "    </tr>\n",
       "    <tr>\n",
       "      <th>1</th>\n",
       "      <td>2</td>\n",
       "      <td>324</td>\n",
       "      <td>107</td>\n",
       "      <td>4</td>\n",
       "      <td>4.0</td>\n",
       "      <td>4.5</td>\n",
       "      <td>8.87</td>\n",
       "      <td>1</td>\n",
       "      <td>0.76</td>\n",
       "    </tr>\n",
       "    <tr>\n",
       "      <th>2</th>\n",
       "      <td>3</td>\n",
       "      <td>316</td>\n",
       "      <td>104</td>\n",
       "      <td>3</td>\n",
       "      <td>3.0</td>\n",
       "      <td>3.5</td>\n",
       "      <td>8.00</td>\n",
       "      <td>1</td>\n",
       "      <td>0.72</td>\n",
       "    </tr>\n",
       "    <tr>\n",
       "      <th>3</th>\n",
       "      <td>4</td>\n",
       "      <td>322</td>\n",
       "      <td>110</td>\n",
       "      <td>3</td>\n",
       "      <td>3.5</td>\n",
       "      <td>2.5</td>\n",
       "      <td>8.67</td>\n",
       "      <td>1</td>\n",
       "      <td>0.80</td>\n",
       "    </tr>\n",
       "    <tr>\n",
       "      <th>4</th>\n",
       "      <td>5</td>\n",
       "      <td>314</td>\n",
       "      <td>103</td>\n",
       "      <td>2</td>\n",
       "      <td>2.0</td>\n",
       "      <td>3.0</td>\n",
       "      <td>8.21</td>\n",
       "      <td>0</td>\n",
       "      <td>0.65</td>\n",
       "    </tr>\n",
       "  </tbody>\n",
       "</table>\n",
       "</div>"
      ],
      "text/plain": [
       "   Serial No.  GRE Score  TOEFL Score  University Rating  SOP  LOR   CGPA  \\\n",
       "0           1        337          118                  4  4.5   4.5  9.65   \n",
       "1           2        324          107                  4  4.0   4.5  8.87   \n",
       "2           3        316          104                  3  3.0   3.5  8.00   \n",
       "3           4        322          110                  3  3.5   2.5  8.67   \n",
       "4           5        314          103                  2  2.0   3.0  8.21   \n",
       "\n",
       "   Research  Chance of Admit  \n",
       "0         1             0.92  \n",
       "1         1             0.76  \n",
       "2         1             0.72  \n",
       "3         1             0.80  \n",
       "4         0             0.65  "
      ]
     },
     "execution_count": 7,
     "metadata": {},
     "output_type": "execute_result"
    }
   ],
   "source": [
    "df.head()"
   ]
  },
  {
   "cell_type": "code",
   "execution_count": 35,
   "metadata": {},
   "outputs": [
    {
     "data": {
      "text/html": [
       "<div>\n",
       "<style scoped>\n",
       "    .dataframe tbody tr th:only-of-type {\n",
       "        vertical-align: middle;\n",
       "    }\n",
       "\n",
       "    .dataframe tbody tr th {\n",
       "        vertical-align: top;\n",
       "    }\n",
       "\n",
       "    .dataframe thead th {\n",
       "        text-align: right;\n",
       "    }\n",
       "</style>\n",
       "<table border=\"1\" class=\"dataframe\">\n",
       "  <thead>\n",
       "    <tr style=\"text-align: right;\">\n",
       "      <th></th>\n",
       "      <th>GRE Score</th>\n",
       "      <th>TOEFL Score</th>\n",
       "      <th>University Rating</th>\n",
       "      <th>SOP</th>\n",
       "      <th>LOR</th>\n",
       "      <th>CGPA</th>\n",
       "      <th>Research</th>\n",
       "      <th>Chance of Admit</th>\n",
       "    </tr>\n",
       "  </thead>\n",
       "  <tbody>\n",
       "    <tr>\n",
       "      <th>count</th>\n",
       "      <td>500.000000</td>\n",
       "      <td>500.000000</td>\n",
       "      <td>500.000000</td>\n",
       "      <td>500.000000</td>\n",
       "      <td>500.00000</td>\n",
       "      <td>500.000000</td>\n",
       "      <td>500.000000</td>\n",
       "      <td>500.00000</td>\n",
       "    </tr>\n",
       "    <tr>\n",
       "      <th>mean</th>\n",
       "      <td>316.472000</td>\n",
       "      <td>107.192000</td>\n",
       "      <td>3.114000</td>\n",
       "      <td>3.374000</td>\n",
       "      <td>3.48400</td>\n",
       "      <td>8.576440</td>\n",
       "      <td>0.560000</td>\n",
       "      <td>0.72174</td>\n",
       "    </tr>\n",
       "    <tr>\n",
       "      <th>std</th>\n",
       "      <td>11.295148</td>\n",
       "      <td>6.081868</td>\n",
       "      <td>1.143512</td>\n",
       "      <td>0.991004</td>\n",
       "      <td>0.92545</td>\n",
       "      <td>0.604813</td>\n",
       "      <td>0.496884</td>\n",
       "      <td>0.14114</td>\n",
       "    </tr>\n",
       "    <tr>\n",
       "      <th>min</th>\n",
       "      <td>290.000000</td>\n",
       "      <td>92.000000</td>\n",
       "      <td>1.000000</td>\n",
       "      <td>1.000000</td>\n",
       "      <td>1.00000</td>\n",
       "      <td>6.800000</td>\n",
       "      <td>0.000000</td>\n",
       "      <td>0.34000</td>\n",
       "    </tr>\n",
       "    <tr>\n",
       "      <th>25%</th>\n",
       "      <td>308.000000</td>\n",
       "      <td>103.000000</td>\n",
       "      <td>2.000000</td>\n",
       "      <td>2.500000</td>\n",
       "      <td>3.00000</td>\n",
       "      <td>8.127500</td>\n",
       "      <td>0.000000</td>\n",
       "      <td>0.63000</td>\n",
       "    </tr>\n",
       "    <tr>\n",
       "      <th>50%</th>\n",
       "      <td>317.000000</td>\n",
       "      <td>107.000000</td>\n",
       "      <td>3.000000</td>\n",
       "      <td>3.500000</td>\n",
       "      <td>3.50000</td>\n",
       "      <td>8.560000</td>\n",
       "      <td>1.000000</td>\n",
       "      <td>0.72000</td>\n",
       "    </tr>\n",
       "    <tr>\n",
       "      <th>75%</th>\n",
       "      <td>325.000000</td>\n",
       "      <td>112.000000</td>\n",
       "      <td>4.000000</td>\n",
       "      <td>4.000000</td>\n",
       "      <td>4.00000</td>\n",
       "      <td>9.040000</td>\n",
       "      <td>1.000000</td>\n",
       "      <td>0.82000</td>\n",
       "    </tr>\n",
       "    <tr>\n",
       "      <th>max</th>\n",
       "      <td>340.000000</td>\n",
       "      <td>120.000000</td>\n",
       "      <td>5.000000</td>\n",
       "      <td>5.000000</td>\n",
       "      <td>5.00000</td>\n",
       "      <td>9.920000</td>\n",
       "      <td>1.000000</td>\n",
       "      <td>0.97000</td>\n",
       "    </tr>\n",
       "  </tbody>\n",
       "</table>\n",
       "</div>"
      ],
      "text/plain": [
       "        GRE Score  TOEFL Score  University Rating         SOP       LOR   \\\n",
       "count  500.000000   500.000000         500.000000  500.000000  500.00000   \n",
       "mean   316.472000   107.192000           3.114000    3.374000    3.48400   \n",
       "std     11.295148     6.081868           1.143512    0.991004    0.92545   \n",
       "min    290.000000    92.000000           1.000000    1.000000    1.00000   \n",
       "25%    308.000000   103.000000           2.000000    2.500000    3.00000   \n",
       "50%    317.000000   107.000000           3.000000    3.500000    3.50000   \n",
       "75%    325.000000   112.000000           4.000000    4.000000    4.00000   \n",
       "max    340.000000   120.000000           5.000000    5.000000    5.00000   \n",
       "\n",
       "             CGPA    Research  Chance of Admit  \n",
       "count  500.000000  500.000000        500.00000  \n",
       "mean     8.576440    0.560000          0.72174  \n",
       "std      0.604813    0.496884          0.14114  \n",
       "min      6.800000    0.000000          0.34000  \n",
       "25%      8.127500    0.000000          0.63000  \n",
       "50%      8.560000    1.000000          0.72000  \n",
       "75%      9.040000    1.000000          0.82000  \n",
       "max      9.920000    1.000000          0.97000  "
      ]
     },
     "execution_count": 35,
     "metadata": {},
     "output_type": "execute_result"
    }
   ],
   "source": [
    "df.describe()"
   ]
  },
  {
   "cell_type": "code",
   "execution_count": 9,
   "metadata": {},
   "outputs": [
    {
     "data": {
      "text/html": [
       "<div>\n",
       "<style scoped>\n",
       "    .dataframe tbody tr th:only-of-type {\n",
       "        vertical-align: middle;\n",
       "    }\n",
       "\n",
       "    .dataframe tbody tr th {\n",
       "        vertical-align: top;\n",
       "    }\n",
       "\n",
       "    .dataframe thead th {\n",
       "        text-align: right;\n",
       "    }\n",
       "</style>\n",
       "<table border=\"1\" class=\"dataframe\">\n",
       "  <thead>\n",
       "    <tr style=\"text-align: right;\">\n",
       "      <th></th>\n",
       "      <th>Serial No.</th>\n",
       "      <th>GRE Score</th>\n",
       "      <th>TOEFL Score</th>\n",
       "      <th>University Rating</th>\n",
       "      <th>SOP</th>\n",
       "      <th>LOR</th>\n",
       "      <th>CGPA</th>\n",
       "      <th>Research</th>\n",
       "      <th>Chance of Admit</th>\n",
       "    </tr>\n",
       "  </thead>\n",
       "  <tbody>\n",
       "    <tr>\n",
       "      <th>Serial No.</th>\n",
       "      <td>1.000000</td>\n",
       "      <td>-0.103839</td>\n",
       "      <td>-0.141696</td>\n",
       "      <td>-0.067641</td>\n",
       "      <td>-0.137352</td>\n",
       "      <td>-0.003694</td>\n",
       "      <td>-0.074289</td>\n",
       "      <td>-0.005332</td>\n",
       "      <td>0.008505</td>\n",
       "    </tr>\n",
       "    <tr>\n",
       "      <th>GRE Score</th>\n",
       "      <td>-0.103839</td>\n",
       "      <td>1.000000</td>\n",
       "      <td>0.827200</td>\n",
       "      <td>0.635376</td>\n",
       "      <td>0.613498</td>\n",
       "      <td>0.524679</td>\n",
       "      <td>0.825878</td>\n",
       "      <td>0.563398</td>\n",
       "      <td>0.810351</td>\n",
       "    </tr>\n",
       "    <tr>\n",
       "      <th>TOEFL Score</th>\n",
       "      <td>-0.141696</td>\n",
       "      <td>0.827200</td>\n",
       "      <td>1.000000</td>\n",
       "      <td>0.649799</td>\n",
       "      <td>0.644410</td>\n",
       "      <td>0.541563</td>\n",
       "      <td>0.810574</td>\n",
       "      <td>0.467012</td>\n",
       "      <td>0.792228</td>\n",
       "    </tr>\n",
       "    <tr>\n",
       "      <th>University Rating</th>\n",
       "      <td>-0.067641</td>\n",
       "      <td>0.635376</td>\n",
       "      <td>0.649799</td>\n",
       "      <td>1.000000</td>\n",
       "      <td>0.728024</td>\n",
       "      <td>0.608651</td>\n",
       "      <td>0.705254</td>\n",
       "      <td>0.427047</td>\n",
       "      <td>0.690132</td>\n",
       "    </tr>\n",
       "    <tr>\n",
       "      <th>SOP</th>\n",
       "      <td>-0.137352</td>\n",
       "      <td>0.613498</td>\n",
       "      <td>0.644410</td>\n",
       "      <td>0.728024</td>\n",
       "      <td>1.000000</td>\n",
       "      <td>0.663707</td>\n",
       "      <td>0.712154</td>\n",
       "      <td>0.408116</td>\n",
       "      <td>0.684137</td>\n",
       "    </tr>\n",
       "    <tr>\n",
       "      <th>LOR</th>\n",
       "      <td>-0.003694</td>\n",
       "      <td>0.524679</td>\n",
       "      <td>0.541563</td>\n",
       "      <td>0.608651</td>\n",
       "      <td>0.663707</td>\n",
       "      <td>1.000000</td>\n",
       "      <td>0.637469</td>\n",
       "      <td>0.372526</td>\n",
       "      <td>0.645365</td>\n",
       "    </tr>\n",
       "    <tr>\n",
       "      <th>CGPA</th>\n",
       "      <td>-0.074289</td>\n",
       "      <td>0.825878</td>\n",
       "      <td>0.810574</td>\n",
       "      <td>0.705254</td>\n",
       "      <td>0.712154</td>\n",
       "      <td>0.637469</td>\n",
       "      <td>1.000000</td>\n",
       "      <td>0.501311</td>\n",
       "      <td>0.882413</td>\n",
       "    </tr>\n",
       "    <tr>\n",
       "      <th>Research</th>\n",
       "      <td>-0.005332</td>\n",
       "      <td>0.563398</td>\n",
       "      <td>0.467012</td>\n",
       "      <td>0.427047</td>\n",
       "      <td>0.408116</td>\n",
       "      <td>0.372526</td>\n",
       "      <td>0.501311</td>\n",
       "      <td>1.000000</td>\n",
       "      <td>0.545871</td>\n",
       "    </tr>\n",
       "    <tr>\n",
       "      <th>Chance of Admit</th>\n",
       "      <td>0.008505</td>\n",
       "      <td>0.810351</td>\n",
       "      <td>0.792228</td>\n",
       "      <td>0.690132</td>\n",
       "      <td>0.684137</td>\n",
       "      <td>0.645365</td>\n",
       "      <td>0.882413</td>\n",
       "      <td>0.545871</td>\n",
       "      <td>1.000000</td>\n",
       "    </tr>\n",
       "  </tbody>\n",
       "</table>\n",
       "</div>"
      ],
      "text/plain": [
       "                   Serial No.  GRE Score  TOEFL Score  University Rating  \\\n",
       "Serial No.           1.000000  -0.103839    -0.141696          -0.067641   \n",
       "GRE Score           -0.103839   1.000000     0.827200           0.635376   \n",
       "TOEFL Score         -0.141696   0.827200     1.000000           0.649799   \n",
       "University Rating   -0.067641   0.635376     0.649799           1.000000   \n",
       "SOP                 -0.137352   0.613498     0.644410           0.728024   \n",
       "LOR                 -0.003694   0.524679     0.541563           0.608651   \n",
       "CGPA                -0.074289   0.825878     0.810574           0.705254   \n",
       "Research            -0.005332   0.563398     0.467012           0.427047   \n",
       "Chance of Admit      0.008505   0.810351     0.792228           0.690132   \n",
       "\n",
       "                        SOP      LOR       CGPA  Research  Chance of Admit  \n",
       "Serial No.        -0.137352 -0.003694 -0.074289 -0.005332         0.008505  \n",
       "GRE Score          0.613498  0.524679  0.825878  0.563398         0.810351  \n",
       "TOEFL Score        0.644410  0.541563  0.810574  0.467012         0.792228  \n",
       "University Rating  0.728024  0.608651  0.705254  0.427047         0.690132  \n",
       "SOP                1.000000  0.663707  0.712154  0.408116         0.684137  \n",
       "LOR                0.663707  1.000000  0.637469  0.372526         0.645365  \n",
       "CGPA               0.712154  0.637469  1.000000  0.501311         0.882413  \n",
       "Research           0.408116  0.372526  0.501311  1.000000         0.545871  \n",
       "Chance of Admit    0.684137  0.645365  0.882413  0.545871         1.000000  "
      ]
     },
     "execution_count": 9,
     "metadata": {},
     "output_type": "execute_result"
    }
   ],
   "source": [
    "df.corr()"
   ]
  },
  {
   "cell_type": "markdown",
   "metadata": {},
   "source": [
    "# heatmap()\n",
    "\n",
    "seaborn.heatmap(data, vmin=None, vmax=None, cmap=None, center=None, robust=False, annot=None, fmt='.2g', annot_kws=None, linewidths=0, linecolor='white', cbar=True, cbar_kws=None, cbar_ax=None, square=False, xticklabels='auto', yticklabels='auto', mask=None, ax=None, **kwargs)\n",
    "\n",
    "\t\n",
    "data : rectangular dataset\n",
    "\n",
    "2D dataset that can be coerced into an ndarray. If a Pandas DataFrame is provided, the index/column information will be used to label the columns and rows.\n",
    "\n",
    "ax : matplotlib Axes, optional\n",
    "\n",
    "Axes in which to draw the plot, otherwise use the currently-active Axes.\n",
    "\n",
    "annot : bool or rectangular dataset, optional\n",
    "\n",
    "If True, write the data value in each cell. If an array-like with the same shape as data, then use this to annotate the heatmap instead of the raw data.\n",
    "\n",
    "linewidths : float, optional\n",
    "\n",
    "Width of the lines that will divide each cell.\n",
    "\n",
    "fmt : string, optional\n",
    "\n",
    "String formatting code to use when adding annotations.\n",
    "\n",
    "cmap : matplotlib colormap name or object, or list of colors, optional\n",
    "\n",
    "The mapping from data values to color space. If not provided, the default will depend on whether center is set."
   ]
  },
  {
   "cell_type": "code",
   "execution_count": 8,
   "metadata": {},
   "outputs": [
    {
     "data": {
      "image/png": "[encoded data removed]",
      "text/plain": [
       "<Figure size 720x720 with 2 Axes>"
      ]
     },
     "metadata": {},
     "output_type": "display_data"
    }
   ],
   "source": [
    "fig,ax = plt.subplots(figsize=(10, 10))\n",
    "sns.heatmap(df.corr(), ax=ax, annot=True, linewidths=0.05, fmt= '.2f',cmap=\"magma\")\n",
    "plt.show()"
   ]
  },
  {
   "cell_type": "markdown",
   "metadata": {},
   "source": [
    "# DATA VISUALIZATION TO UNDERSTAND THE DATASET\n",
    "Having Research or not:\n",
    "\n",
    "The majority of the candidates in the dataset have research experience.\n",
    "Therefore, the Research will be a unimportant feature for the Chance of Admit. The correlation between Chance of Admit and Research was already lower than other correlation values."
   ]
  },
  {
   "cell_type": "code",
   "execution_count": 10,
   "metadata": {},
   "outputs": [
    {
     "name": "stdout",
     "output_type": "stream",
     "text": [
      "Not Having Research: 220\n",
      "Having Research: 280\n"
     ]
    },
    {
     "data": {
      "image/png": "[encoded data removed]",
      "text/plain": [
       "<Figure size 432x288 with 1 Axes>"
      ]
     },
     "metadata": {},
     "output_type": "display_data"
    }
   ],
   "source": [
    "print(\"Not Having Research:\",len(df[df.Research == 0]))\n",
    "print(\"Having Research:\",len(df[df.Research == 1]))\n",
    "y = np.array([len(df[df.Research == 0]),len(df[df.Research == 1])])\n",
    "x = [\"Not Having Research\",\"Having Research\"]\n",
    "plt.bar(x,y)\n",
    "plt.title(\"Research Experience\")\n",
    "plt.xlabel(\"Canditates\")\n",
    "plt.ylabel(\"Frequency\")\n",
    "plt.show()"
   ]
  },
  {
   "cell_type": "markdown",
   "metadata": {},
   "source": [
    "# TOEFL Score:\n",
    "\n",
    "The lowest TOEFL score is 92 and the highest Toefl score is 120. The average is 107.41."
   ]
  },
  {
   "cell_type": "code",
   "execution_count": 11,
   "metadata": {},
   "outputs": [
    {
     "data": {
      "image/png": "[encoded data removed]",
      "text/plain": [
       "<Figure size 432x288 with 1 Axes>"
      ]
     },
     "metadata": {},
     "output_type": "display_data"
    }
   ],
   "source": [
    "y = np.array([df[\"TOEFL Score\"].min(),df[\"TOEFL Score\"].mean(),df[\"TOEFL Score\"].max()])\n",
    "x = [\"Worst\",\"Average\",\"Best\"]\n",
    "plt.bar(x,y)\n",
    "plt.title(\"TOEFL Scores\")\n",
    "plt.xlabel(\"Level\")\n",
    "plt.ylabel(\"TOEFL Score\")\n",
    "plt.show()"
   ]
  },
  {
   "cell_type": "markdown",
   "metadata": {},
   "source": [
    "# GRE Score:\n",
    "\n",
    "This histogram shows the frequency for GRE scores.\n",
    "There is a density between 310 and 330. Being above this range would be a good feature for a candidate to stand out."
   ]
  },
  {
   "cell_type": "code",
   "execution_count": 12,
   "metadata": {},
   "outputs": [
    {
     "data": {
      "image/png": "[encoded data removed]",
      "text/plain": [
       "<Figure size 432x432 with 1 Axes>"
      ]
     },
     "metadata": {},
     "output_type": "display_data"
    }
   ],
   "source": [
    "df[\"GRE Score\"].plot(kind = 'hist',bins = 200,figsize = (6,6))\n",
    "plt.title(\"GRE Scores\")\n",
    "plt.xlabel(\"GRE Score\")\n",
    "plt.ylabel(\"Frequency\")\n",
    "plt.show()"
   ]
  },
  {
   "cell_type": "markdown",
   "metadata": {},
   "source": [
    "# CGPA Scores for University Ratings:\n",
    "\n",
    "As the quality of the university increases, the CGPA score increases."
   ]
  },
  {
   "cell_type": "code",
   "execution_count": 13,
   "metadata": {},
   "outputs": [
    {
     "data": {
      "image/png": "[encoded data removed]",
      "text/plain": [
       "<Figure size 432x288 with 1 Axes>"
      ]
     },
     "metadata": {},
     "output_type": "display_data"
    }
   ],
   "source": [
    "plt.scatter(df[\"University Rating\"],df['CGPA'])\n",
    "plt.title(\"CGPA Scores for University Ratings\")\n",
    "plt.xlabel(\"University Rating\")\n",
    "plt.ylabel(\"CGPA\")\n",
    "plt.show()"
   ]
  },
  {
   "cell_type": "code",
   "execution_count": 14,
   "metadata": {},
   "outputs": [
    {
     "data": {
      "image/png": "[encoded data removed]",
      "text/plain": [
       "<Figure size 432x288 with 1 Axes>"
      ]
     },
     "metadata": {},
     "output_type": "display_data"
    }
   ],
   "source": [
    "plt.scatter(df[\"GRE Score\"],df['CGPA'])\n",
    "plt.title(\"CGPA for GRE Scores\")\n",
    "plt.xlabel(\"GRE Score\")\n",
    "plt.ylabel(\"CGPA\")\n",
    "plt.show()"
   ]
  },
  {
   "cell_type": "code",
   "execution_count": 15,
   "metadata": {},
   "outputs": [
    {
     "data": {
      "image/png": "[encoded data removed]",
      "text/plain": [
       "<Figure size 432x288 with 1 Axes>"
      ]
     },
     "metadata": {},
     "output_type": "display_data"
    }
   ],
   "source": [
    "df[df.CGPA >= 8.5].plot(kind='scatter', x='GRE Score', y='TOEFL Score',color=\"red\")\n",
    "plt.xlabel(\"GRE Score\")\n",
    "plt.ylabel(\"TOEFL SCORE\")\n",
    "plt.title(\"CGPA>=8.5\")\n",
    "plt.grid(True)\n",
    "plt.show()"
   ]
  },
  {
   "cell_type": "code",
   "execution_count": 21,
   "metadata": {},
   "outputs": [
    {
     "name": "stdout",
     "output_type": "stream",
     "text": [
      "0       True\n",
      "1       True\n",
      "2      False\n",
      "3       True\n",
      "4      False\n",
      "5       True\n",
      "6       True\n",
      "7      False\n",
      "8      False\n",
      "9      False\n",
      "10     False\n",
      "11      True\n",
      "12      True\n",
      "13     False\n",
      "14     False\n",
      "15     False\n",
      "16     False\n",
      "17     False\n",
      "18     False\n",
      "19     False\n",
      "20     False\n",
      "21     False\n",
      "22      True\n",
      "23      True\n",
      "24      True\n",
      "25      True\n",
      "26      True\n",
      "27     False\n",
      "28     False\n",
      "29     False\n",
      "       ...  \n",
      "470     True\n",
      "471    False\n",
      "472     True\n",
      "473    False\n",
      "474    False\n",
      "475    False\n",
      "476    False\n",
      "477    False\n",
      "478    False\n",
      "479     True\n",
      "480     True\n",
      "481     True\n",
      "482     True\n",
      "483    False\n",
      "484    False\n",
      "485    False\n",
      "486    False\n",
      "487     True\n",
      "488     True\n",
      "489    False\n",
      "490    False\n",
      "491    False\n",
      "492    False\n",
      "493    False\n",
      "494    False\n",
      "495     True\n",
      "496     True\n",
      "497     True\n",
      "498    False\n",
      "499     True\n",
      "Name: Chance of Admit, Length: 500, dtype: bool\n",
      "     Serial No.  GRE Score  TOEFL Score  University Rating  SOP  LOR   CGPA  \\\n",
      "0             1        337          118                  4  4.5   4.5  9.65   \n",
      "1             2        324          107                  4  4.0   4.5  8.87   \n",
      "3             4        322          110                  3  3.5   2.5  8.67   \n",
      "5             6        330          115                  5  4.5   3.0  9.34   \n",
      "6             7        321          109                  3  3.0   4.0  8.20   \n",
      "11           12        327          111                  4  4.0   4.5  9.00   \n",
      "12           13        328          112                  4  4.0   4.5  9.10   \n",
      "22           23        328          116                  5  5.0   5.0  9.50   \n",
      "23           24        334          119                  5  5.0   4.5  9.70   \n",
      "24           25        336          119                  5  4.0   3.5  9.80   \n",
      "25           26        340          120                  5  4.5   4.5  9.60   \n",
      "26           27        322          109                  5  4.5   3.5  8.80   \n",
      "32           33        338          118                  4  3.0   4.5  9.40   \n",
      "33           34        340          114                  5  4.0   4.0  9.60   \n",
      "34           35        331          112                  5  4.0   5.0  9.80   \n",
      "35           36        320          110                  5  5.0   5.0  9.20   \n",
      "43           44        332          117                  4  4.5   4.0  9.10   \n",
      "44           45        326          113                  5  4.5   4.0  9.40   \n",
      "45           46        322          110                  5  5.0   4.0  9.10   \n",
      "46           47        329          114                  5  4.0   5.0  9.30   \n",
      "47           48        339          119                  5  4.5   4.0  9.70   \n",
      "48           49        321          110                  3  3.5   5.0  8.85   \n",
      "49           50        327          111                  4  3.0   4.0  8.40   \n",
      "50           51        313           98                  3  2.5   4.5  8.30   \n",
      "52           53        334          116                  4  4.0   3.0  8.00   \n",
      "69           70        328          115                  4  4.5   4.0  9.16   \n",
      "70           71        332          118                  5  5.0   5.0  9.64   \n",
      "71           72        336          112                  5  5.0   5.0  9.76   \n",
      "72           73        321          111                  5  5.0   5.0  9.45   \n",
      "73           74        314          108                  4  4.5   4.0  9.04   \n",
      "..          ...        ...          ...                ...  ...   ...   ...   \n",
      "432         433        324          112                  4  4.5   4.0  9.22   \n",
      "441         442        332          112                  1  1.5   3.0  8.66   \n",
      "442         443        331          116                  4  4.5   4.5  9.44   \n",
      "443         444        321          114                  5  4.5   4.5  9.16   \n",
      "444         445        324          113                  5  4.0   5.0  9.25   \n",
      "445         446        328          116                  5  4.5   5.0  9.08   \n",
      "446         447        327          118                  4  5.0   5.0  9.67   \n",
      "447         448        320          108                  3  3.5   5.0  8.97   \n",
      "448         449        312          109                  2  2.5   4.0  9.02   \n",
      "449         450        315          101                  3  3.5   4.5  9.13   \n",
      "450         451        320          112                  4  3.0   4.5  8.86   \n",
      "451         452        324          113                  4  4.5   4.5  9.25   \n",
      "452         453        328          116                  4  5.0   3.5  9.60   \n",
      "459         460        329          113                  4  4.0   3.5  9.36   \n",
      "460         461        319          105                  4  4.0   4.5  8.66   \n",
      "467         468        318          101                  5  3.5   5.0  8.78   \n",
      "468         469        323          110                  4  4.0   5.0  8.88   \n",
      "469         470        326          114                  4  4.0   3.5  9.16   \n",
      "470         471        320          110                  5  4.0   4.0  9.27   \n",
      "472         473        327          116                  4  4.0   4.5  9.48   \n",
      "479         480        325          110                  4  4.5   4.0  8.96   \n",
      "480         481        321          102                  3  3.5   4.0  9.01   \n",
      "481         482        323          107                  4  3.0   2.5  8.48   \n",
      "482         483        328          113                  4  4.0   2.5  8.77   \n",
      "487         488        327          115                  4  3.5   4.0  9.14   \n",
      "488         489        322          112                  3  3.0   4.0  8.62   \n",
      "495         496        332          108                  5  4.5   4.0  9.02   \n",
      "496         497        337          117                  5  5.0   5.0  9.87   \n",
      "497         498        330          120                  5  4.5   5.0  9.56   \n",
      "499         500        327          113                  4  4.5   4.5  9.04   \n",
      "\n",
      "     Research  Chance of Admit  \n",
      "0           1             0.92  \n",
      "1           1             0.76  \n",
      "3           1             0.80  \n",
      "5           1             0.90  \n",
      "6           1             0.75  \n",
      "11          1             0.84  \n",
      "12          1             0.78  \n",
      "22          1             0.94  \n",
      "23          1             0.95  \n",
      "24          1             0.97  \n",
      "25          1             0.94  \n",
      "26          0             0.76  \n",
      "32          1             0.91  \n",
      "33          1             0.90  \n",
      "34          1             0.94  \n",
      "35          1             0.88  \n",
      "43          0             0.87  \n",
      "44          1             0.91  \n",
      "45          1             0.88  \n",
      "46          1             0.86  \n",
      "47          0             0.89  \n",
      "48          1             0.82  \n",
      "49          1             0.78  \n",
      "50          1             0.76  \n",
      "52          1             0.78  \n",
      "69          1             0.78  \n",
      "70          1             0.94  \n",
      "71          1             0.96  \n",
      "72          1             0.93  \n",
      "73          1             0.84  \n",
      "..        ...              ...  \n",
      "432         1             0.86  \n",
      "441         1             0.79  \n",
      "442         1             0.92  \n",
      "443         1             0.87  \n",
      "444         1             0.92  \n",
      "445         1             0.91  \n",
      "446         1             0.93  \n",
      "447         1             0.84  \n",
      "448         0             0.80  \n",
      "449         0             0.79  \n",
      "450         1             0.82  \n",
      "451         1             0.89  \n",
      "452         1             0.93  \n",
      "459         1             0.89  \n",
      "460         1             0.77  \n",
      "467         1             0.78  \n",
      "468         1             0.81  \n",
      "469         1             0.86  \n",
      "470         1             0.87  \n",
      "472         1             0.90  \n",
      "479         1             0.79  \n",
      "480         1             0.80  \n",
      "481         1             0.78  \n",
      "482         1             0.83  \n",
      "487         0             0.79  \n",
      "488         1             0.76  \n",
      "495         1             0.87  \n",
      "496         1             0.96  \n",
      "497         1             0.93  \n",
      "499         0             0.84  \n",
      "\n",
      "[218 rows x 9 columns]\n",
      "0      4\n",
      "1      4\n",
      "3      3\n",
      "5      5\n",
      "6      3\n",
      "11     4\n",
      "12     4\n",
      "22     5\n",
      "23     5\n",
      "24     5\n",
      "25     5\n",
      "26     5\n",
      "32     4\n",
      "33     5\n",
      "34     5\n",
      "35     5\n",
      "43     4\n",
      "44     5\n",
      "45     5\n",
      "46     5\n",
      "47     5\n",
      "48     3\n",
      "49     4\n",
      "50     3\n",
      "52     4\n",
      "69     4\n",
      "70     5\n",
      "71     5\n",
      "72     5\n",
      "73     4\n",
      "      ..\n",
      "432    4\n",
      "441    1\n",
      "442    4\n",
      "443    5\n",
      "444    5\n",
      "445    5\n",
      "446    4\n",
      "447    3\n",
      "448    2\n",
      "449    3\n",
      "450    4\n",
      "451    4\n",
      "452    4\n",
      "459    4\n",
      "460    4\n",
      "467    5\n",
      "468    4\n",
      "469    4\n",
      "470    5\n",
      "472    4\n",
      "479    4\n",
      "480    3\n",
      "481    4\n",
      "482    4\n",
      "487    4\n",
      "488    3\n",
      "495    5\n",
      "496    5\n",
      "497    5\n",
      "499    4\n",
      "Name: University Rating, Length: 218, dtype: int64\n",
      "4    79\n",
      "5    68\n",
      "3    58\n",
      "2    11\n",
      "1     2\n",
      "Name: University Rating, dtype: int64\n"
     ]
    }
   ],
   "source": [
    "print(df[\"Chance of Admit\"] >= 0.75) #True False series according to condition\n",
    "print(df[df[\"Chance of Admit\"] >= 0.75]) #records filtered where condition is True\n",
    "print(df[df[\"Chance of Admit\"] >= 0.75][\"University Rating\"]) #University rating of filtered records\n",
    "print(df[df[\"Chance of Admit\"] >= 0.75][\"University Rating\"].value_counts())"
   ]
  },
  {
   "cell_type": "markdown",
   "metadata": {},
   "source": [
    "Candidates who graduate from good universities are more fortunate to be accepted."
   ]
  },
  {
   "cell_type": "code",
   "execution_count": 17,
   "metadata": {},
   "outputs": [
    {
     "name": "stdout",
     "output_type": "stream",
     "text": [
      "4    79\n",
      "5    68\n",
      "3    58\n",
      "2    11\n",
      "1     2\n",
      "Name: University Rating, dtype: int64\n"
     ]
    },
    {
     "data": {
      "image/png": "[encoded data removed]",
      "text/plain": [
       "<Figure size 1440x720 with 1 Axes>"
      ]
     },
     "metadata": {},
     "output_type": "display_data"
    }
   ],
   "source": [
    "s = df[df[\"Chance of Admit\"] >= 0.75][\"University Rating\"].value_counts().head(5)\n",
    "print(s)\n",
    "plt.title(\"University Ratings of Candidates with an 75% acceptance chance\")\n",
    "s.plot(kind='bar',figsize=(20, 10))\n",
    "plt.xlabel(\"University Rating\")\n",
    "plt.ylabel(\"Candidates\")\n",
    "plt.show()"
   ]
  },
  {
   "cell_type": "markdown",
   "metadata": {},
   "source": [
    "Candidates with high CGPA scores usually have a high SOP score."
   ]
  },
  {
   "cell_type": "code",
   "execution_count": 22,
   "metadata": {},
   "outputs": [
    {
     "data": {
      "image/png": "[encoded data removed]",
      "text/plain": [
       "<Figure size 432x288 with 1 Axes>"
      ]
     },
     "metadata": {},
     "output_type": "display_data"
    }
   ],
   "source": [
    "plt.scatter(df[\"CGPA\"],df['SOP'])\n",
    "plt.xlabel(\"CGPA\")\n",
    "plt.ylabel(\"SOP\")\n",
    "plt.title(\"SOP for CGPA\")\n",
    "plt.show()"
   ]
  },
  {
   "cell_type": "markdown",
   "metadata": {},
   "source": [
    "Candidates with high GRE scores usually have a high SOP score."
   ]
  },
  {
   "cell_type": "code",
   "execution_count": 23,
   "metadata": {},
   "outputs": [
    {
     "data": {
      "image/png": "[encoded data removed]",
      "text/plain": [
       "<Figure size 432x288 with 1 Axes>"
      ]
     },
     "metadata": {},
     "output_type": "display_data"
    }
   ],
   "source": [
    "plt.scatter(df[\"GRE Score\"],df[\"SOP\"])\n",
    "plt.xlabel(\"GRE Score\")\n",
    "plt.ylabel(\"SOP\")\n",
    "plt.title(\"SOP for GRE Score\")\n",
    "plt.show()"
   ]
  },
  {
   "cell_type": "markdown",
   "metadata": {},
   "source": [
    "# REGRESSION ALGORITHMS (SUPERVISED MACHINE LEARNING ALGORITHMS\n",
    "Preparing Data for Regression\n",
    "Serial No. is deleted because it stores index values. In the future this column does not benefit for regression algorithms."
   ]
  },
  {
   "cell_type": "code",
   "execution_count": 24,
   "metadata": {},
   "outputs": [],
   "source": [
    "# reading the dataset\n",
    "df = pd.read_csv(\"Admission_Predict_Ver1.1.csv\",sep = \",\")\n",
    "\n",
    "# it may be needed in the future.\n",
    "serialNo = df[\"Serial No.\"].values\n",
    "\n",
    "df.drop([\"Serial No.\"],axis=1,inplace = True)\n",
    "\n",
    "df=df.rename(columns = {'Chance of Admit ':'Chance of Admit'})"
   ]
  },
  {
   "cell_type": "markdown",
   "metadata": {},
   "source": [
    "train_test_split:\n",
    "\n",
    "It splits the data into random train (80%) and test (20%) subsets."
   ]
  },
  {
   "cell_type": "code",
   "execution_count": 27,
   "metadata": {},
   "outputs": [],
   "source": [
    "y = df[\"Chance of Admit\"].values\n",
    "x = df.drop([\"Chance of Admit\"],axis=1)\n",
    "\n",
    "# separating train (80%) and test (%20) sets\n",
    "from sklearn.model_selection import train_test_split\n",
    "\n",
    "x_train, x_test,y_train, y_test = train_test_split(x,y,test_size = 0.20,random_state = 42)"
   ]
  },
  {
   "cell_type": "markdown",
   "metadata": {},
   "source": [
    "Normalization (min-max scaling):\n",
    "\n",
    "It makes values scaled to a fixed range (0-1)."
   ]
  },
  {
   "cell_type": "code",
   "execution_count": 26,
   "metadata": {},
   "outputs": [
    {
     "name": "stderr",
     "output_type": "stream",
     "text": [
      "C:\\Users\\vaibv\\Anaconda3\\lib\\site-packages\\ipykernel_launcher.py:4: SettingWithCopyWarning: \n",
      "A value is trying to be set on a copy of a slice from a DataFrame.\n",
      "Try using .loc[row_indexer,col_indexer] = value instead\n",
      "\n",
      "See the caveats in the documentation: http://pandas.pydata.org/pandas-docs/stable/indexing.html#indexing-view-versus-copy\n",
      "  after removing the cwd from sys.path.\n",
      "C:\\Users\\vaibv\\Anaconda3\\lib\\site-packages\\pandas\\core\\indexing.py:543: SettingWithCopyWarning: \n",
      "A value is trying to be set on a copy of a slice from a DataFrame.\n",
      "Try using .loc[row_indexer,col_indexer] = value instead\n",
      "\n",
      "See the caveats in the documentation: http://pandas.pydata.org/pandas-docs/stable/indexing.html#indexing-view-versus-copy\n",
      "  self.obj[item] = s\n",
      "C:\\Users\\vaibv\\Anaconda3\\lib\\site-packages\\ipykernel_launcher.py:5: SettingWithCopyWarning: \n",
      "A value is trying to be set on a copy of a slice from a DataFrame.\n",
      "Try using .loc[row_indexer,col_indexer] = value instead\n",
      "\n",
      "See the caveats in the documentation: http://pandas.pydata.org/pandas-docs/stable/indexing.html#indexing-view-versus-copy\n",
      "  \"\"\"\n"
     ]
    }
   ],
   "source": [
    "# normalization\n",
    "from sklearn.preprocessing import MinMaxScaler\n",
    "scalerX = MinMaxScaler(feature_range=(0, 1))\n",
    "x_train[x_train.columns] = scalerX.fit_transform(x_train[x_train.columns])\n",
    "x_test[x_test.columns] = scalerX.transform(x_test[x_test.columns])"
   ]
  },
  {
   "cell_type": "markdown",
   "metadata": {},
   "source": [
    "Note about r2_score:\n",
    "\n",
    "It is the regression score function.\n",
    "The best possible score is 1.0 for r2_score.\n",
    "It may be negative."
   ]
  },
  {
   "cell_type": "markdown",
   "metadata": {},
   "source": [
    "# Linear Regression"
   ]
  },
  {
   "cell_type": "code",
   "execution_count": 28,
   "metadata": {},
   "outputs": [
    {
     "name": "stdout",
     "output_type": "stream",
     "text": [
      "real value of y_test[1]: 0.84 -> the predict: [0.79518127]\n",
      "real value of y_test[2]: 0.39 -> the predict: [0.57265986]\n",
      "r_square score:  0.818843256782963\n",
      "r_square score (train dataset):  0.8210671369321554\n"
     ]
    }
   ],
   "source": [
    "from sklearn.linear_model import LinearRegression\n",
    "lr = LinearRegression()\n",
    "lr.fit(x_train,y_train)\n",
    "y_head_lr = lr.predict(x_test)\n",
    "\n",
    "print(\"real value of y_test[1]: \" + str(y_test[1]) + \" -> the predict: \" + str(lr.predict(x_test.iloc[[1],:])))\n",
    "print(\"real value of y_test[2]: \" + str(y_test[2]) + \" -> the predict: \" + str(lr.predict(x_test.iloc[[2],:])))\n",
    "\n",
    "from sklearn.metrics import r2_score\n",
    "print(\"r_square score: \", r2_score(y_test,y_head_lr))\n",
    "\n",
    "y_head_lr_train = lr.predict(x_train)\n",
    "print(\"r_square score (train dataset): \", r2_score(y_train,y_head_lr_train))"
   ]
  },
  {
   "cell_type": "markdown",
   "metadata": {},
   "source": [
    "# Random Forest Regression"
   ]
  },
  {
   "cell_type": "markdown",
   "metadata": {},
   "source": [
    "class sklearn.ensemble.RandomForestRegressor(n_estimators=’warn’, criterion=’mse’, max_depth=None, min_samples_split=2, min_samples_leaf=1, min_weight_fraction_leaf=0.0, max_features=’auto’, max_leaf_nodes=None, min_impurity_decrease=0.0, min_impurity_split=None, bootstrap=True, oob_score=False, n_jobs=None, random_state=None, verbose=0, warm_start=False)[source]\n",
    "\n",
    "\t\n",
    "n_estimators : integer, optional (default=10)\n",
    "The number of trees in the forest.\n",
    "\n",
    "Changed in version 0.20: The default value of n_estimators will change from 10 in version 0.20 to 100 in version 0.22.\n",
    "\n",
    "random_state : int, RandomState instance or None, optional (default=None)\n",
    "If int, random_state is the seed used by the random number generator; If RandomState instance, random_state is the random number generator; If None, the random number generator is the RandomState instance used by np.random."
   ]
  },
  {
   "cell_type": "code",
   "execution_count": 29,
   "metadata": {},
   "outputs": [
    {
     "name": "stdout",
     "output_type": "stream",
     "text": [
      "r_square score:  0.7884142689486551\n",
      "real value of y_test[1]: 0.84 -> the predict: [0.7901]\n",
      "real value of y_test[2]: 0.39 -> the predict: [0.6147]\n",
      "r_square score (train dataset):  0.9681591391620332\n"
     ]
    }
   ],
   "source": [
    "from sklearn.ensemble import RandomForestRegressor\n",
    "rfr = RandomForestRegressor(n_estimators = 100, random_state = 42)\n",
    "rfr.fit(x_train,y_train)\n",
    "y_head_rfr = rfr.predict(x_test) \n",
    "\n",
    "from sklearn.metrics import r2_score\n",
    "print(\"r_square score: \", r2_score(y_test,y_head_rfr))\n",
    "print(\"real value of y_test[1]: \" + str(y_test[1]) + \" -> the predict: \" + str(rfr.predict(x_test.iloc[[1],:])))\n",
    "print(\"real value of y_test[2]: \" + str(y_test[2]) + \" -> the predict: \" + str(rfr.predict(x_test.iloc[[2],:])))\n",
    "\n",
    "\n",
    "y_head_rf_train = rfr.predict(x_train)\n",
    "print(\"r_square score (train dataset): \", r2_score(y_train,y_head_rf_train))"
   ]
  },
  {
   "cell_type": "markdown",
   "metadata": {},
   "source": [
    "# Decision Tree Regression"
   ]
  },
  {
   "cell_type": "code",
   "execution_count": 30,
   "metadata": {},
   "outputs": [
    {
     "name": "stdout",
     "output_type": "stream",
     "text": [
      "r_square score:  0.57799511002445\n",
      "real value of y_test[1]: 0.84 -> the predict: [0.85]\n",
      "real value of y_test[2]: 0.39 -> the predict: [0.58]\n",
      "r_square score (train dataset):  1.0\n"
     ]
    }
   ],
   "source": [
    "from sklearn.tree import DecisionTreeRegressor\n",
    "dtr = DecisionTreeRegressor(random_state = 42)\n",
    "dtr.fit(x_train,y_train)\n",
    "y_head_dtr = dtr.predict(x_test) \n",
    "\n",
    "from sklearn.metrics import r2_score\n",
    "print(\"r_square score: \", r2_score(y_test,y_head_dtr))\n",
    "print(\"real value of y_test[1]: \" + str(y_test[1]) + \" -> the predict: \" + str(dtr.predict(x_test.iloc[[1],:])))\n",
    "print(\"real value of y_test[2]: \" + str(y_test[2]) + \" -> the predict: \" + str(dtr.predict(x_test.iloc[[2],:])))\n",
    "\n",
    "y_head_dtr_train = dtr.predict(x_train)\n",
    "print(\"r_square score (train dataset): \", r2_score(y_train,y_head_dtr_train))"
   ]
  },
  {
   "cell_type": "markdown",
   "metadata": {},
   "source": [
    "# Comparison of Regression Algorithms"
   ]
  },
  {
   "cell_type": "markdown",
   "metadata": {},
   "source": [
    "Linear regression and random forest regression algorithms were better than decision tree regression algorithm."
   ]
  },
  {
   "cell_type": "code",
   "execution_count": 31,
   "metadata": {},
   "outputs": [
    {
     "data": {
      "image/png": "[encoded data removed]",
      "text/plain": [
       "<Figure size 432x288 with 1 Axes>"
      ]
     },
     "metadata": {},
     "output_type": "display_data"
    }
   ],
   "source": [
    "y = np.array([r2_score(y_test,y_head_lr),r2_score(y_test,y_head_rfr),r2_score(y_test,y_head_dtr)])\n",
    "x = [\"LinearRegression\",\"RandomForestReg.\",\"DecisionTreeReg.\"]\n",
    "plt.bar(x,y)\n",
    "plt.title(\"Comparison of Regression Algorithms\")\n",
    "plt.xlabel(\"Regressor\")\n",
    "plt.ylabel(\"r2_score\")\n",
    "plt.show()"
   ]
  },
  {
   "cell_type": "code",
   "execution_count": 32,
   "metadata": {},
   "outputs": [
    {
     "name": "stdout",
     "output_type": "stream",
     "text": [
      "real value of y_test[5]: 0.89 -> the predict: [0.86206561]\n",
      "real value of y_test[5]: 0.89 -> the predict: [0.8774]\n",
      "real value of y_test[5]: 0.89 -> the predict: [0.87]\n",
      "\n",
      "real value of y_test[50]: 0.93 -> the predict: [0.88805969]\n",
      "real value of y_test[50]: 0.93 -> the predict: [0.8991]\n",
      "real value of y_test[50]: 0.93 -> the predict: [0.87]\n"
     ]
    }
   ],
   "source": [
    "print(\"real value of y_test[5]: \" + str(y_test[5]) + \" -> the predict: \" + str(lr.predict(x_test.iloc[[5],:])))\n",
    "print(\"real value of y_test[5]: \" + str(y_test[5]) + \" -> the predict: \" + str(rfr.predict(x_test.iloc[[5],:])))\n",
    "print(\"real value of y_test[5]: \" + str(y_test[5]) + \" -> the predict: \" + str(dtr.predict(x_test.iloc[[5],:])))\n",
    "\n",
    "print()\n",
    "\n",
    "print(\"real value of y_test[50]: \" + str(y_test[50]) + \" -> the predict: \" + str(lr.predict(x_test.iloc[[50],:])))\n",
    "print(\"real value of y_test[50]: \" + str(y_test[50]) + \" -> the predict: \" + str(rfr.predict(x_test.iloc[[50],:])))\n",
    "print(\"real value of y_test[50]: \" + str(y_test[50]) + \" -> the predict: \" + str(dtr.predict(x_test.iloc[[50],:])))"
   ]
  },
  {
   "cell_type": "markdown",
   "metadata": {},
   "source": [
    "This is the estimate and the actual acceptance possibilities made with 3 regression algorithms for test samples with 0, 5, 10, 15, 20, 25, 30, 35, 40, 45, 50, 55, 60, 65, 70, 75 indexes:"
   ]
  },
  {
   "cell_type": "code",
   "execution_count": 33,
   "metadata": {},
   "outputs": [
    {
     "data": {
      "image/png": "[encoded data removed]",
      "text/plain": [
       "<Figure size 432x288 with 1 Axes>"
      ]
     },
     "metadata": {},
     "output_type": "display_data"
    }
   ],
   "source": [
    "red = plt.scatter(np.arange(0,80,5),y_head_lr[0:80:5],color = \"red\")\n",
    "green = plt.scatter(np.arange(0,80,5),y_head_rfr[0:80:5],color = \"green\")\n",
    "blue = plt.scatter(np.arange(0,80,5),y_head_dtr[0:80:5],color = \"blue\")\n",
    "black = plt.scatter(np.arange(0,80,5),y_test[0:80:5],color = \"black\")\n",
    "plt.title(\"Comparison of Regression Algorithms\")\n",
    "plt.xlabel(\"Index of Candidate\")\n",
    "plt.ylabel(\"Chance of Admit\")\n",
    "plt.legend((red,green,blue,black),('LR', 'RFR', 'DTR', 'REAL'))\n",
    "plt.show()"
   ]
  },
  {
   "cell_type": "markdown",
   "metadata": {},
   "source": [
    "Comment:\n",
    "\n",
    "Because most candidates in the data have over 70% chance, many unsuccessful candidates are not well predicted."
   ]
  },
  {
   "cell_type": "code",
   "execution_count": 34,
   "metadata": {},
   "outputs": [
    {
     "data": {
      "image/png": "[encoded data removed]",
      "text/plain": [
       "<Figure size 432x432 with 1 Axes>"
      ]
     },
     "metadata": {},
     "output_type": "display_data"
    }
   ],
   "source": [
    "df[\"Chance of Admit\"].plot(kind = 'hist',bins = 200,figsize = (6,6))\n",
    "plt.title(\"Chance of Admit\")\n",
    "plt.xlabel(\"Chance of Admit\")\n",
    "plt.ylabel(\"Frequency\")\n",
    "plt.show()"
   ]
  },
  {
   "cell_type": "code",
   "execution_count": null,
   "metadata": {},
   "outputs": [],
   "source": []
  }
 ],
 "metadata": {
  "kernelspec": {
   "display_name": "Python 3",
   "language": "python",
   "name": "python3"
  },
  "language_info": {
   "codemirror_mode": {
    "name": "ipython",
    "version": 3
   },
   "file_extension": ".py",
   "mimetype": "text/x-python",
   "name": "python",
   "nbconvert_exporter": "python",
   "pygments_lexer": "ipython3",
   "version": "3.6.5"
  }
 },
 "nbformat": 4,
 "nbformat_minor": 2
}
