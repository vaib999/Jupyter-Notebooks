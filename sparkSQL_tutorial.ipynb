{
 "cells": [
  {
   "cell_type": "code",
   "execution_count": 1,
   "metadata": {},
   "outputs": [],
   "source": [
    "import findspark\n",
    "findspark.init()\n",
    "from pyspark.sql import *\n",
    "from pyspark import  SparkContext\n",
    "\n",
    "sc = SparkContext( 'local', 'pyspark')\n",
    "sql = SQLContext(sc)"
   ]
  },
  {
   "cell_type": "code",
   "execution_count": 2,
   "metadata": {},
   "outputs": [],
   "source": [
    "df = sql.read.csv(\"train.csv\", inferSchema = True, header = True)"
   ]
  },
  {
   "cell_type": "code",
   "execution_count": 3,
   "metadata": {},
   "outputs": [
    {
     "data": {
      "text/plain": [
       "Row(PassengerId=1, Survived=0, Pclass=3, Name='Braund, Mr. Owen Harris', Sex='male', Age=22.0, SibSp=1, Parch=0, Ticket='A/5 21171', Fare=7.25, Cabin=None, Embarked='S')"
      ]
     },
     "execution_count": 3,
     "metadata": {},
     "output_type": "execute_result"
    }
   ],
   "source": [
    "df.first()"
   ]
  },
  {
   "cell_type": "code",
   "execution_count": 4,
   "metadata": {},
   "outputs": [
    {
     "data": {
      "text/plain": [
       "[Row(PassengerId=1, Survived=0, Pclass=3, Name='Braund, Mr. Owen Harris', Sex='male', Age=22.0, SibSp=1, Parch=0, Ticket='A/5 21171', Fare=7.25, Cabin=None, Embarked='S'),\n",
       " Row(PassengerId=2, Survived=1, Pclass=1, Name='Cumings, Mrs. John Bradley (Florence Briggs Thayer)', Sex='female', Age=38.0, SibSp=1, Parch=0, Ticket='PC 17599', Fare=71.2833, Cabin='C85', Embarked='C')]"
      ]
     },
     "execution_count": 4,
     "metadata": {},
     "output_type": "execute_result"
    }
   ],
   "source": [
    "df.take(2)"
   ]
  },
  {
   "cell_type": "code",
   "execution_count": 5,
   "metadata": {},
   "outputs": [
    {
     "name": "stdout",
     "output_type": "stream",
     "text": [
      "root\n",
      " |-- PassengerId: integer (nullable = true)\n",
      " |-- Survived: integer (nullable = true)\n",
      " |-- Pclass: integer (nullable = true)\n",
      " |-- Name: string (nullable = true)\n",
      " |-- Sex: string (nullable = true)\n",
      " |-- Age: double (nullable = true)\n",
      " |-- SibSp: integer (nullable = true)\n",
      " |-- Parch: integer (nullable = true)\n",
      " |-- Ticket: string (nullable = true)\n",
      " |-- Fare: double (nullable = true)\n",
      " |-- Cabin: string (nullable = true)\n",
      " |-- Embarked: string (nullable = true)\n",
      "\n"
     ]
    }
   ],
   "source": [
    "df.printSchema()"
   ]
  },
  {
   "cell_type": "code",
   "execution_count": 6,
   "metadata": {},
   "outputs": [
    {
     "name": "stdout",
     "output_type": "stream",
     "text": [
      "+-------+------------------+\n",
      "|summary|               Age|\n",
      "+-------+------------------+\n",
      "|  count|               714|\n",
      "|   mean| 29.69911764705882|\n",
      "| stddev|14.526497332334035|\n",
      "|    min|              0.42|\n",
      "|    max|              80.0|\n",
      "+-------+------------------+\n",
      "\n"
     ]
    }
   ],
   "source": [
    "df.describe('Age').show()"
   ]
  },
  {
   "cell_type": "code",
   "execution_count": 7,
   "metadata": {},
   "outputs": [
    {
     "data": {
      "text/plain": [
       "22"
      ]
     },
     "execution_count": 7,
     "metadata": {},
     "output_type": "execute_result"
    }
   ],
   "source": [
    "df.filter(df['Age'] > 60).count()"
   ]
  },
  {
   "cell_type": "code",
   "execution_count": 8,
   "metadata": {},
   "outputs": [
    {
     "name": "stdout",
     "output_type": "stream",
     "text": [
      "+------+-----+\n",
      "|   Sex|count|\n",
      "+------+-----+\n",
      "|female|  314|\n",
      "|  male|  577|\n",
      "+------+-----+\n",
      "\n"
     ]
    }
   ],
   "source": [
    "df.groupby('Sex').count().show()"
   ]
  },
  {
   "cell_type": "code",
   "execution_count": 9,
   "metadata": {},
   "outputs": [
    {
     "name": "stdout",
     "output_type": "stream",
     "text": [
      "+-----------+--------+------+--------------------+------+----+-----+-----+--------+--------+---------------+--------+\n",
      "|PassengerId|Survived|Pclass|                Name|   Sex| Age|SibSp|Parch|  Ticket|    Fare|          Cabin|Embarked|\n",
      "+-----------+--------+------+--------------------+------+----+-----+-----+--------+--------+---------------+--------+\n",
      "|        738|       1|     1|Lesurer, Mr. Gust...|  male|35.0|    0|    0|PC 17755|512.3292|           B101|       C|\n",
      "|        680|       1|     1|Cardeza, Mr. Thom...|  male|36.0|    0|    1|PC 17755|512.3292|    B51 B53 B55|       C|\n",
      "|        259|       1|     1|    Ward, Miss. Anna|female|35.0|    0|    0|PC 17755|512.3292|           null|       C|\n",
      "|        342|       1|     1|Fortune, Miss. Al...|female|24.0|    3|    2|   19950|   263.0|    C23 C25 C27|       S|\n",
      "|        439|       0|     1|   Fortune, Mr. Mark|  male|64.0|    1|    4|   19950|   263.0|    C23 C25 C27|       S|\n",
      "|         28|       0|     1|Fortune, Mr. Char...|  male|19.0|    3|    2|   19950|   263.0|    C23 C25 C27|       S|\n",
      "|         89|       1|     1|Fortune, Miss. Ma...|female|23.0|    3|    2|   19950|   263.0|    C23 C25 C27|       S|\n",
      "|        743|       1|     1|\"Ryerson, Miss. S...|female|21.0|    2|    2|PC 17608| 262.375|B57 B59 B63 B66|       C|\n",
      "|        312|       1|     1|Ryerson, Miss. Em...|female|18.0|    2|    2|PC 17608| 262.375|B57 B59 B63 B66|       C|\n",
      "|        119|       0|     1|Baxter, Mr. Quigg...|  male|24.0|    0|    1|PC 17558|247.5208|        B58 B60|       C|\n",
      "|        300|       1|     1|Baxter, Mrs. Jame...|female|50.0|    0|    1|PC 17558|247.5208|        B58 B60|       C|\n",
      "|        558|       0|     1| Robbins, Mr. Victor|  male|null|    0|    0|PC 17757| 227.525|           null|       C|\n",
      "|        701|       1|     1|Astor, Mrs. John ...|female|18.0|    1|    0|PC 17757| 227.525|        C62 C64|       C|\n",
      "|        717|       1|     1|Endres, Miss. Car...|female|38.0|    0|    0|PC 17757| 227.525|            C45|       C|\n",
      "|        381|       1|     1|Bidois, Miss. Ros...|female|42.0|    0|    0|PC 17757| 227.525|           null|       C|\n",
      "|        528|       0|     1|  Farthing, Mr. John|  male|null|    0|    0|PC 17483|221.7792|            C95|       S|\n",
      "|        378|       0|     1|Widener, Mr. Harr...|  male|27.0|    0|    2|  113503|   211.5|            C82|       C|\n",
      "|        690|       1|     1|Madill, Miss. Geo...|female|15.0|    0|    1|   24160|211.3375|             B5|       S|\n",
      "|        731|       1|     1|Allen, Miss. Elis...|female|29.0|    0|    0|   24160|211.3375|             B5|       S|\n",
      "|        780|       1|     1|Robert, Mrs. Edwa...|female|43.0|    0|    1|   24160|211.3375|             B3|       S|\n",
      "+-----------+--------+------+--------------------+------+----+-----+-----+--------+--------+---------------+--------+\n",
      "only showing top 20 rows\n",
      "\n",
      "+-----------+--------+------+--------------------+------+----+-----+-----+--------+--------+---------------+--------+\n",
      "|PassengerId|Survived|Pclass|                Name|   Sex| Age|SibSp|Parch|  Ticket|    Fare|          Cabin|Embarked|\n",
      "+-----------+--------+------+--------------------+------+----+-----+-----+--------+--------+---------------+--------+\n",
      "|        738|       1|     1|Lesurer, Mr. Gust...|  male|35.0|    0|    0|PC 17755|512.3292|           B101|       C|\n",
      "|        680|       1|     1|Cardeza, Mr. Thom...|  male|36.0|    0|    1|PC 17755|512.3292|    B51 B53 B55|       C|\n",
      "|        259|       1|     1|    Ward, Miss. Anna|female|35.0|    0|    0|PC 17755|512.3292|           null|       C|\n",
      "|        342|       1|     1|Fortune, Miss. Al...|female|24.0|    3|    2|   19950|   263.0|    C23 C25 C27|       S|\n",
      "|        439|       0|     1|   Fortune, Mr. Mark|  male|64.0|    1|    4|   19950|   263.0|    C23 C25 C27|       S|\n",
      "|         28|       0|     1|Fortune, Mr. Char...|  male|19.0|    3|    2|   19950|   263.0|    C23 C25 C27|       S|\n",
      "|         89|       1|     1|Fortune, Miss. Ma...|female|23.0|    3|    2|   19950|   263.0|    C23 C25 C27|       S|\n",
      "|        743|       1|     1|\"Ryerson, Miss. S...|female|21.0|    2|    2|PC 17608| 262.375|B57 B59 B63 B66|       C|\n",
      "|        312|       1|     1|Ryerson, Miss. Em...|female|18.0|    2|    2|PC 17608| 262.375|B57 B59 B63 B66|       C|\n",
      "|        119|       0|     1|Baxter, Mr. Quigg...|  male|24.0|    0|    1|PC 17558|247.5208|        B58 B60|       C|\n",
      "|        300|       1|     1|Baxter, Mrs. Jame...|female|50.0|    0|    1|PC 17558|247.5208|        B58 B60|       C|\n",
      "|        558|       0|     1| Robbins, Mr. Victor|  male|null|    0|    0|PC 17757| 227.525|           null|       C|\n",
      "|        701|       1|     1|Astor, Mrs. John ...|female|18.0|    1|    0|PC 17757| 227.525|        C62 C64|       C|\n",
      "|        717|       1|     1|Endres, Miss. Car...|female|38.0|    0|    0|PC 17757| 227.525|            C45|       C|\n",
      "|        381|       1|     1|Bidois, Miss. Ros...|female|42.0|    0|    0|PC 17757| 227.525|           null|       C|\n",
      "|        528|       0|     1|  Farthing, Mr. John|  male|null|    0|    0|PC 17483|221.7792|            C95|       S|\n",
      "|        378|       0|     1|Widener, Mr. Harr...|  male|27.0|    0|    2|  113503|   211.5|            C82|       C|\n",
      "|        690|       1|     1|Madill, Miss. Geo...|female|15.0|    0|    1|   24160|211.3375|             B5|       S|\n",
      "|        731|       1|     1|Allen, Miss. Elis...|female|29.0|    0|    0|   24160|211.3375|             B5|       S|\n",
      "|        780|       1|     1|Robert, Mrs. Edwa...|female|43.0|    0|    1|   24160|211.3375|             B3|       S|\n",
      "+-----------+--------+------+--------------------+------+----+-----+-----+--------+--------+---------------+--------+\n",
      "only showing top 20 rows\n",
      "\n"
     ]
    }
   ],
   "source": [
    "from pyspark.sql.functions import desc\n",
    "sortByFare = df.sort((desc('Fare'))).show()\n",
    "sortByFare = df.sort(-df['Fare']).show() #see the use of - operator for desc"
   ]
  },
  {
   "cell_type": "code",
   "execution_count": 10,
   "metadata": {},
   "outputs": [],
   "source": [
    "df.registerTempTable('Titanic')"
   ]
  },
  {
   "cell_type": "code",
   "execution_count": 11,
   "metadata": {},
   "outputs": [
    {
     "name": "stdout",
     "output_type": "stream",
     "text": [
      "+------+--------+\n",
      "|   Sex|Survived|\n",
      "+------+--------+\n",
      "|  male|       0|\n",
      "|female|       1|\n",
      "|female|       1|\n",
      "|female|       1|\n",
      "|  male|       0|\n",
      "|  male|       0|\n",
      "|  male|       0|\n",
      "|  male|       0|\n",
      "|female|       1|\n",
      "|female|       1|\n",
      "|female|       1|\n",
      "|female|       1|\n",
      "|  male|       0|\n",
      "|  male|       0|\n",
      "|female|       0|\n",
      "|female|       1|\n",
      "|  male|       0|\n",
      "|  male|       1|\n",
      "|female|       0|\n",
      "|female|       1|\n",
      "+------+--------+\n",
      "only showing top 20 rows\n",
      "\n"
     ]
    }
   ],
   "source": [
    "sql.sql('Select Sex, Survived From Titanic').show()"
   ]
  },
  {
   "cell_type": "code",
   "execution_count": 12,
   "metadata": {},
   "outputs": [
    {
     "name": "stdout",
     "output_type": "stream",
     "text": [
      "+--------+\n",
      "|Embarked|\n",
      "+--------+\n",
      "|       Q|\n",
      "|    null|\n",
      "|       C|\n",
      "|       S|\n",
      "+--------+\n",
      "\n"
     ]
    }
   ],
   "source": [
    "sql.sql('Select distinct(Embarked) From Titanic').show()"
   ]
  },
  {
   "cell_type": "code",
   "execution_count": 13,
   "metadata": {},
   "outputs": [
    {
     "name": "stdout",
     "output_type": "stream",
     "text": [
      "+--------+\n",
      "|min(Age)|\n",
      "+--------+\n",
      "|    0.42|\n",
      "+--------+\n",
      "\n"
     ]
    }
   ],
   "source": [
    "sql.sql('Select min(Age) From Titanic').show()"
   ]
  },
  {
   "cell_type": "code",
   "execution_count": 14,
   "metadata": {},
   "outputs": [
    {
     "name": "stdout",
     "output_type": "stream",
     "text": [
      "root\n",
      " |-- PassengerId: integer (nullable = true)\n",
      " |-- Survived: integer (nullable = true)\n",
      " |-- Pclass: integer (nullable = true)\n",
      " |-- Name: string (nullable = true)\n",
      " |-- Gender: string (nullable = true)\n",
      " |-- Age: double (nullable = true)\n",
      " |-- SibSp: integer (nullable = true)\n",
      " |-- Parch: integer (nullable = true)\n",
      " |-- Ticket: string (nullable = true)\n",
      " |-- Fare: double (nullable = true)\n",
      " |-- Cabin: string (nullable = true)\n",
      " |-- Embarked: string (nullable = true)\n",
      "\n"
     ]
    }
   ],
   "source": [
    "df1 = df.withColumnRenamed('Sex','Gender')\n",
    "df1.printSchema()"
   ]
  },
  {
   "cell_type": "code",
   "execution_count": 15,
   "metadata": {},
   "outputs": [
    {
     "name": "stdout",
     "output_type": "stream",
     "text": [
      "+----+------+\n",
      "| Age|   Sex|\n",
      "+----+------+\n",
      "|null|  male|\n",
      "|null|female|\n",
      "|0.42|  male|\n",
      "|0.67|  male|\n",
      "|0.75|female|\n",
      "|0.83|  male|\n",
      "|0.92|  male|\n",
      "| 1.0|  male|\n",
      "| 1.0|female|\n",
      "| 2.0|  male|\n",
      "| 2.0|female|\n",
      "| 3.0|female|\n",
      "| 3.0|  male|\n",
      "| 4.0|female|\n",
      "| 4.0|  male|\n",
      "| 5.0|female|\n",
      "| 6.0|female|\n",
      "| 6.0|  male|\n",
      "| 7.0|  male|\n",
      "| 7.0|female|\n",
      "+----+------+\n",
      "only showing top 20 rows\n",
      "\n"
     ]
    }
   ],
   "source": [
    "sql.sql('Select Age, Sex From Titanic').sort(df['Age']).distinct().show()"
   ]
  },
  {
   "cell_type": "code",
   "execution_count": 16,
   "metadata": {},
   "outputs": [],
   "source": [
    "df2 = sql.sql('Select Age, Sex, Embarked From Titanic').sort(df['Age']).dropDuplicates(['Age','Sex'])"
   ]
  },
  {
   "cell_type": "code",
   "execution_count": 17,
   "metadata": {},
   "outputs": [
    {
     "name": "stdout",
     "output_type": "stream",
     "text": [
      "+----+------+--------+----+------+--------+\n",
      "| Age|   Sex|Embarked| Age|   Sex|Embarked|\n",
      "+----+------+--------+----+------+--------+\n",
      "|null|female|       C|63.0|female|       S|\n",
      "|null|female|       C|62.0|female|    null|\n",
      "|null|female|       C|60.0|female|       C|\n",
      "|null|female|       C|58.0|female|       S|\n",
      "|null|female|       C|57.0|female|       S|\n",
      "|null|female|       C|56.0|female|       C|\n",
      "|null|female|       C|55.0|female|       S|\n",
      "|null|female|       C|54.0|female|       C|\n",
      "|null|female|       C|53.0|female|       S|\n",
      "|null|female|       C|52.0|female|       C|\n",
      "|null|female|       C|51.0|female|       S|\n",
      "|null|female|       C|50.0|female|       C|\n",
      "|null|female|       C|49.0|female|       C|\n",
      "|null|female|       C|48.0|female|       C|\n",
      "|null|female|       C|47.0|female|       S|\n",
      "|null|female|       C|45.0|female|       S|\n",
      "|null|female|       C|44.0|female|       C|\n",
      "|null|female|       C|43.0|female|       S|\n",
      "|null|female|       C|42.0|female|       C|\n",
      "|null|female|       C|41.0|female|       S|\n",
      "+----+------+--------+----+------+--------+\n",
      "only showing top 20 rows\n",
      "\n"
     ]
    }
   ],
   "source": [
    "joined = df2.join(df2, df2.Sex == df2.Sex).show()"
   ]
  },
  {
   "cell_type": "markdown",
   "metadata": {},
   "source": [
    "# Distinct"
   ]
  },
  {
   "cell_type": "code",
   "execution_count": 18,
   "metadata": {},
   "outputs": [
    {
     "name": "stdout",
     "output_type": "stream",
     "text": [
      "+--------+\n",
      "|Embarked|\n",
      "+--------+\n",
      "|       Q|\n",
      "|    null|\n",
      "|       C|\n",
      "|       S|\n",
      "+--------+\n",
      "\n"
     ]
    }
   ],
   "source": [
    "sql.sql('SELECT DISTINCT Embarked FROM Titanic').show()"
   ]
  },
  {
   "cell_type": "markdown",
   "metadata": {},
   "source": [
    "# Where"
   ]
  },
  {
   "cell_type": "code",
   "execution_count": 19,
   "metadata": {},
   "outputs": [
    {
     "name": "stdout",
     "output_type": "stream",
     "text": [
      "+-----------+--------+------+--------------------+------+----+-----+-----+------------------+-------+-----------+--------+\n",
      "|PassengerId|Survived|Pclass|                Name|   Sex| Age|SibSp|Parch|            Ticket|   Fare|      Cabin|Embarked|\n",
      "+-----------+--------+------+--------------------+------+----+-----+-----+------------------+-------+-----------+--------+\n",
      "|         13|       0|     3|Saundercock, Mr. ...|  male|20.0|    0|    0|         A/5. 2151|   8.05|       null|       S|\n",
      "|         28|       0|     1|Fortune, Mr. Char...|  male|19.0|    3|    2|             19950|  263.0|C23 C25 C27|       S|\n",
      "|         38|       0|     3|Cann, Mr. Ernest ...|  male|21.0|    0|    0|        A./5. 2152|   8.05|       null|       S|\n",
      "|         39|       0|     3|Vander Planke, Mi...|female|18.0|    2|    0|            345764|   18.0|       null|       S|\n",
      "|         45|       1|     3|Devaney, Miss. Ma...|female|19.0|    0|    0|            330958| 7.8792|       null|       Q|\n",
      "|         50|       0|     3|Arnold-Franchi, M...|female|18.0|    1|    0|            349237|   17.8|       null|       S|\n",
      "|         52|       0|     3|Nosworthy, Mr. Ri...|  male|21.0|    0|    0|        A/4. 39886|    7.8|       null|       S|\n",
      "|         57|       1|     2|   Rugg, Miss. Emily|female|21.0|    0|    0|        C.A. 31026|   10.5|       null|       S|\n",
      "|         68|       0|     3|Crease, Mr. Ernes...|  male|19.0|    0|    0|         S.P. 3464| 8.1583|       null|       S|\n",
      "|         69|       1|     3|Andersson, Miss. ...|female|17.0|    4|    2|           3101281|  7.925|       null|       S|\n",
      "|         73|       0|     2|Hood, Mr. Ambrose Jr|  male|21.0|    0|    0|      S.O.C. 14879|   73.5|       null|       S|\n",
      "|         85|       1|     2| Ilett, Miss. Bertha|female|17.0|    0|    0|        SO/C 14885|   10.5|       null|       S|\n",
      "|         92|       0|     3|Andreasson, Mr. P...|  male|20.0|    0|    0|            347466| 7.8542|       null|       S|\n",
      "|        103|       0|     1|White, Mr. Richar...|  male|21.0|    0|    1|             35281|77.2875|        D26|       S|\n",
      "|        107|       1|     3|Salkjelsvik, Miss...|female|21.0|    0|    0|            343120|   7.65|       null|       S|\n",
      "|        114|       0|     3|Jussila, Miss. Ka...|female|20.0|    1|    0|              4136|  9.825|       null|       S|\n",
      "|        115|       0|     3|Attalah, Miss. Ma...|female|17.0|    0|    0|              2627|14.4583|       null|       C|\n",
      "|        116|       0|     3|Pekoniemi, Mr. Ed...|  male|21.0|    0|    0| STON/O 2. 3101294|  7.925|       null|       S|\n",
      "|        121|       0|     2|Hickman, Mr. Stan...|  male|21.0|    2|    0|      S.O.C. 14879|   73.5|       null|       S|\n",
      "|        132|       0|     3|Coelho, Mr. Domin...|  male|20.0|    0|    0|SOTON/O.Q. 3101307|   7.05|       null|       S|\n",
      "+-----------+--------+------+--------------------+------+----+-----+-----+------------------+-------+-----------+--------+\n",
      "only showing top 20 rows\n",
      "\n",
      "+-----------+--------+------+--------------------+------+----+-----+-----+------------------+-------+-----------+--------+\n",
      "|PassengerId|Survived|Pclass|                Name|   Sex| Age|SibSp|Parch|            Ticket|   Fare|      Cabin|Embarked|\n",
      "+-----------+--------+------+--------------------+------+----+-----+-----+------------------+-------+-----------+--------+\n",
      "|         13|       0|     3|Saundercock, Mr. ...|  male|20.0|    0|    0|         A/5. 2151|   8.05|       null|       S|\n",
      "|         28|       0|     1|Fortune, Mr. Char...|  male|19.0|    3|    2|             19950|  263.0|C23 C25 C27|       S|\n",
      "|         39|       0|     3|Vander Planke, Mi...|female|18.0|    2|    0|            345764|   18.0|       null|       S|\n",
      "|         45|       1|     3|Devaney, Miss. Ma...|female|19.0|    0|    0|            330958| 7.8792|       null|       Q|\n",
      "|         50|       0|     3|Arnold-Franchi, M...|female|18.0|    1|    0|            349237|   17.8|       null|       S|\n",
      "|         68|       0|     3|Crease, Mr. Ernes...|  male|19.0|    0|    0|         S.P. 3464| 8.1583|       null|       S|\n",
      "|         92|       0|     3|Andreasson, Mr. P...|  male|20.0|    0|    0|            347466| 7.8542|       null|       S|\n",
      "|        114|       0|     3|Jussila, Miss. Ka...|female|20.0|    1|    0|              4136|  9.825|       null|       S|\n",
      "|        132|       0|     3|Coelho, Mr. Domin...|  male|20.0|    0|    0|SOTON/O.Q. 3101307|   7.05|       null|       S|\n",
      "|        137|       1|     1|Newsom, Miss. Hel...|female|19.0|    0|    2|             11752|26.2833|        D47|       S|\n",
      "|        144|       0|     3| Burke, Mr. Jeremiah|  male|19.0|    0|    0|            365222|   6.75|       null|       Q|\n",
      "|        145|       0|     2|Andrew, Mr. Edgar...|  male|18.0|    0|    0|            231945|   11.5|       null|       S|\n",
      "|        146|       0|     2|Nicholls, Mr. Jos...|  male|19.0|    1|    1|        C.A. 33112|  36.75|       null|       S|\n",
      "|        176|       0|     3|Klasen, Mr. Klas ...|  male|18.0|    1|    1|            350404| 7.8542|       null|       S|\n",
      "|        192|       0|     2|Carbines, Mr. Wil...|  male|19.0|    0|    0|             28424|   13.0|       null|       S|\n",
      "|        193|       1|     3|Andersen-Jensen, ...|female|19.0|    1|    0|            350046| 7.8542|       null|       S|\n",
      "|        205|       1|     3|\"Cohen, Mr. Gursh...|  male|18.0|    0|    0|          A/5 3540|   8.05|       null|       S|\n",
      "|        227|       1|     2|Mellors, Mr. Will...|  male|19.0|    0|    0|         SW/PP 751|   10.5|       null|       S|\n",
      "|        228|       0|     3|\"Lovell, Mr. John...|  male|20.5|    0|    0|         A/5 21173|   7.25|       null|       S|\n",
      "|        229|       0|     2|Fahlstrom, Mr. Ar...|  male|18.0|    0|    0|            236171|   13.0|       null|       S|\n",
      "+-----------+--------+------+--------------------+------+----+-----+-----+------------------+-------+-----------+--------+\n",
      "only showing top 20 rows\n",
      "\n"
     ]
    }
   ],
   "source": [
    "sql.sql('SELECT * FROM Titanic WHERE Age BETWEEN 17 and 21').show()\n",
    "sql.sql('SELECT * FROM Titanic WHERE Age > 17 and Age < 21').show()"
   ]
  },
  {
   "cell_type": "markdown",
   "metadata": {},
   "source": [
    "# IN"
   ]
  },
  {
   "cell_type": "code",
   "execution_count": 20,
   "metadata": {},
   "outputs": [
    {
     "name": "stdout",
     "output_type": "stream",
     "text": [
      "+-----------+--------+------+--------------------+------+----+-----+-----+---------------+-------+-----+--------+\n",
      "|PassengerId|Survived|Pclass|                Name|   Sex| Age|SibSp|Parch|         Ticket|   Fare|Cabin|Embarked|\n",
      "+-----------+--------+------+--------------------+------+----+-----+-----+---------------+-------+-----+--------+\n",
      "|        165|       0|     3|Panula, Master. E...|  male| 1.0|    4|    1|        3101295|39.6875| null|       S|\n",
      "|        173|       1|     3|Johnson, Miss. El...|female| 1.0|    1|    1|         347742|11.1333| null|       S|\n",
      "|        184|       1|     2|Becker, Master. R...|  male| 1.0|    2|    1|         230136|   39.0|   F4|       S|\n",
      "|        382|       1|     3|\"Nakid, Miss. Mar...|female| 1.0|    0|    2|           2653|15.7417| null|       C|\n",
      "|        387|       0|     3|Goodwin, Master. ...|  male| 1.0|    5|    2|        CA 2144|   46.9| null|       S|\n",
      "|        631|       1|     1|Barkworth, Mr. Al...|  male|80.0|    0|    0|          27042|   30.0|  A23|       S|\n",
      "|        789|       1|     3|Dean, Master. Ber...|  male| 1.0|    1|    2|      C.A. 2315| 20.575| null|       S|\n",
      "|        828|       1|     2|Mallet, Master. A...|  male| 1.0|    0|    2|S.C./PARIS 2079|37.0042| null|       C|\n",
      "+-----------+--------+------+--------------------+------+----+-----+-----+---------------+-------+-----+--------+\n",
      "\n"
     ]
    }
   ],
   "source": [
    "sql.sql('SELECT * FROM Titanic WHERE Age IN (1,80,90)').show()"
   ]
  },
  {
   "cell_type": "markdown",
   "metadata": {},
   "source": [
    "# Like"
   ]
  },
  {
   "cell_type": "code",
   "execution_count": 21,
   "metadata": {},
   "outputs": [
    {
     "name": "stdout",
     "output_type": "stream",
     "text": [
      "+-----------+--------+------+--------------------+------+----+-----+-----+------+-----+-----+--------+\n",
      "|PassengerId|Survived|Pclass|                Name|   Sex| Age|SibSp|Parch|Ticket| Fare|Cabin|Embarked|\n",
      "+-----------+--------+------+--------------------+------+----+-----+-----+------+-----+-----+--------+\n",
      "|         19|       0|     3|Vander Planke, Mr...|female|31.0|    1|    0|345763| 18.0| null|       S|\n",
      "|         39|       0|     3|Vander Planke, Mi...|female|18.0|    2|    0|345764| 18.0| null|       S|\n",
      "|        171|       0|     1|Van der hoef, Mr....|  male|61.0|    0|    0|111240| 33.5|  B19|       S|\n",
      "|        201|       0|     3|Vande Walle, Mr. ...|  male|28.0|    0|    0|345770|  9.5| null|       S|\n",
      "|        334|       0|     3|Vander Planke, Mr...|  male|16.0|    2|    0|345764| 18.0| null|       S|\n",
      "|        356|       0|     3|Vanden Steen, Mr....|  male|28.0|    0|    0|345783|  9.5| null|       S|\n",
      "|        420|       0|     3|Van Impe, Miss. C...|female|10.0|    0|    2|345773|24.15| null|       S|\n",
      "|        596|       0|     3|Van Impe, Mr. Jea...|  male|36.0|    1|    1|345773|24.15| null|       S|\n",
      "|        753|       0|     3|Vande Velde, Mr. ...|  male|33.0|    0|    0|345780|  9.5| null|       S|\n",
      "|        800|       0|     3|Van Impe, Mrs. Je...|female|30.0|    1|    1|345773|24.15| null|       S|\n",
      "|        874|       0|     3|Vander Cruyssen, ...|  male|47.0|    0|    0|345765|  9.0| null|       S|\n",
      "+-----------+--------+------+--------------------+------+----+-----+-----+------+-----+-----+--------+\n",
      "\n"
     ]
    }
   ],
   "source": [
    "sql.sql(\"SELECT * FROM Titanic WHERE Name Like 'Va%' \").show()"
   ]
  },
  {
   "cell_type": "code",
   "execution_count": 22,
   "metadata": {},
   "outputs": [
    {
     "name": "stdout",
     "output_type": "stream",
     "text": [
      "+-----------+--------+------+--------------------+------+----+-----+-----+----------+-------+-----------+--------+\n",
      "|PassengerId|Survived|Pclass|                Name|   Sex| Age|SibSp|Parch|    Ticket|   Fare|      Cabin|Embarked|\n",
      "+-----------+--------+------+--------------------+------+----+-----+-----+----------+-------+-----------+--------+\n",
      "|         12|       1|     1|Bonnell, Miss. El...|female|58.0|    0|    0|    113783|  26.55|       C103|       S|\n",
      "|         54|       1|     2|Faunthorpe, Mrs. ...|female|29.0|    1|    0|      2926|   26.0|       null|       S|\n",
      "|         67|       1|     2|Nye, Mrs. (Elizab...|female|29.0|    0|    0|C.A. 29395|   10.5|        F33|       S|\n",
      "|         70|       0|     3|   Kink, Mr. Vincenz|  male|26.0|    2|    0|    315151| 8.6625|       null|       S|\n",
      "|         80|       1|     3|Dowdell, Miss. El...|female|30.0|    0|    0|    364516| 12.475|       null|       S|\n",
      "|        131|       0|     3|Drazenoic, Mr. Jozef|  male|33.0|    0|    0|    349241| 7.8958|       null|       C|\n",
      "|        134|       1|     2|Weisz, Mrs. Leopo...|female|29.0|    1|    0|    228414|   26.0|       null|       S|\n",
      "|        153|       0|     3|    Meo, Mr. Alfonzo|  male|55.5|    0|    0|A.5. 11206|   8.05|       null|       S|\n",
      "|        162|       1|     2|\"Watt, Mrs. James...|female|40.0|    0|    0|C.A. 33595|  15.75|       null|       S|\n",
      "|        178|       0|     1|Isham, Miss. Ann ...|female|50.0|    0|    0|  PC 17595|28.7125|        C49|       C|\n",
      "|        219|       1|     1|Bazzani, Miss. Al...|female|32.0|    0|    0|     11813|76.2917|        D15|       C|\n",
      "|        256|       1|     3|Touma, Mrs. Darwi...|female|29.0|    0|    2|      2650|15.2458|       null|       C|\n",
      "|        273|       1|     2|Mellinger, Mrs. (...|female|41.0|    0|    1|    250644|   19.5|       null|       S|\n",
      "|        308|       1|     1|Penasco y Castell...|female|17.0|    1|    0|  PC 17758|  108.9|        C65|       C|\n",
      "|        338|       1|     1|Burns, Miss. Eliz...|female|41.0|    0|    0|     16966|  134.5|        E40|       C|\n",
      "|        342|       1|     1|Fortune, Miss. Al...|female|24.0|    3|    2|     19950|  263.0|C23 C25 C27|       S|\n",
      "|        355|       0|     3|   Yousif, Mr. Wazli|  male|null|    0|    0|      2647|  7.225|       null|       C|\n",
      "|        366|       0|     3|Adahl, Mr. Maurit...|  male|30.0|    0|    0|    C 7076|   7.25|       null|       S|\n",
      "|        431|       1|     1|Bjornstrom-Steffa...|  male|28.0|    0|    0|    110564|  26.55|        C52|       S|\n",
      "|        455|       0|     3| Peduzzi, Mr. Joseph|  male|null|    0|    0|  A/5 2817|   8.05|       null|       S|\n",
      "+-----------+--------+------+--------------------+------+----+-----+-----+----------+-------+-----------+--------+\n",
      "only showing top 20 rows\n",
      "\n"
     ]
    }
   ],
   "source": [
    "sql.sql(\"SELECT * FROM Titanic WHERE Name Like '%z%' \").show()"
   ]
  },
  {
   "cell_type": "markdown",
   "metadata": {},
   "source": [
    "# Wild Cards\n",
    "%   -> zero or more characters\n",
    "_   -> exactly one character\n",
    "[]  -> Any character in bracket\n",
    "[^] -> Any character except in bracket"
   ]
  },
  {
   "cell_type": "code",
   "execution_count": 23,
   "metadata": {},
   "outputs": [
    {
     "name": "stdout",
     "output_type": "stream",
     "text": [
      "+-----------+--------+------+----+---+---+-----+-----+------+----+-----+--------+\n",
      "|PassengerId|Survived|Pclass|Name|Sex|Age|SibSp|Parch|Ticket|Fare|Cabin|Embarked|\n",
      "+-----------+--------+------+----+---+---+-----+-----+------+----+-----+--------+\n",
      "+-----------+--------+------+----+---+---+-----+-----+------+----+-----+--------+\n",
      "\n"
     ]
    }
   ],
   "source": [
    "sql.sql(\"SELECT * FROM Titanic WHERE Name Like '[A]' \").show()"
   ]
  },
  {
   "cell_type": "markdown",
   "metadata": {},
   "source": [
    "# Order By"
   ]
  },
  {
   "cell_type": "code",
   "execution_count": 24,
   "metadata": {},
   "outputs": [
    {
     "name": "stdout",
     "output_type": "stream",
     "text": [
      "+-----------+--------+------+--------------------+------+----+-----+-----+--------+--------+---------------+--------+\n",
      "|PassengerId|Survived|Pclass|                Name|   Sex| Age|SibSp|Parch|  Ticket|    Fare|          Cabin|Embarked|\n",
      "+-----------+--------+------+--------------------+------+----+-----+-----+--------+--------+---------------+--------+\n",
      "|        738|       1|     1|Lesurer, Mr. Gust...|  male|35.0|    0|    0|PC 17755|512.3292|           B101|       C|\n",
      "|        680|       1|     1|Cardeza, Mr. Thom...|  male|36.0|    0|    1|PC 17755|512.3292|    B51 B53 B55|       C|\n",
      "|        259|       1|     1|    Ward, Miss. Anna|female|35.0|    0|    0|PC 17755|512.3292|           null|       C|\n",
      "|        342|       1|     1|Fortune, Miss. Al...|female|24.0|    3|    2|   19950|   263.0|    C23 C25 C27|       S|\n",
      "|        439|       0|     1|   Fortune, Mr. Mark|  male|64.0|    1|    4|   19950|   263.0|    C23 C25 C27|       S|\n",
      "|         28|       0|     1|Fortune, Mr. Char...|  male|19.0|    3|    2|   19950|   263.0|    C23 C25 C27|       S|\n",
      "|         89|       1|     1|Fortune, Miss. Ma...|female|23.0|    3|    2|   19950|   263.0|    C23 C25 C27|       S|\n",
      "|        743|       1|     1|\"Ryerson, Miss. S...|female|21.0|    2|    2|PC 17608| 262.375|B57 B59 B63 B66|       C|\n",
      "|        312|       1|     1|Ryerson, Miss. Em...|female|18.0|    2|    2|PC 17608| 262.375|B57 B59 B63 B66|       C|\n",
      "|        119|       0|     1|Baxter, Mr. Quigg...|  male|24.0|    0|    1|PC 17558|247.5208|        B58 B60|       C|\n",
      "|        300|       1|     1|Baxter, Mrs. Jame...|female|50.0|    0|    1|PC 17558|247.5208|        B58 B60|       C|\n",
      "|        558|       0|     1| Robbins, Mr. Victor|  male|null|    0|    0|PC 17757| 227.525|           null|       C|\n",
      "|        701|       1|     1|Astor, Mrs. John ...|female|18.0|    1|    0|PC 17757| 227.525|        C62 C64|       C|\n",
      "|        717|       1|     1|Endres, Miss. Car...|female|38.0|    0|    0|PC 17757| 227.525|            C45|       C|\n",
      "|        381|       1|     1|Bidois, Miss. Ros...|female|42.0|    0|    0|PC 17757| 227.525|           null|       C|\n",
      "|        528|       0|     1|  Farthing, Mr. John|  male|null|    0|    0|PC 17483|221.7792|            C95|       S|\n",
      "|        378|       0|     1|Widener, Mr. Harr...|  male|27.0|    0|    2|  113503|   211.5|            C82|       C|\n",
      "|        690|       1|     1|Madill, Miss. Geo...|female|15.0|    0|    1|   24160|211.3375|             B5|       S|\n",
      "|        731|       1|     1|Allen, Miss. Elis...|female|29.0|    0|    0|   24160|211.3375|             B5|       S|\n",
      "|        780|       1|     1|Robert, Mrs. Edwa...|female|43.0|    0|    1|   24160|211.3375|             B3|       S|\n",
      "+-----------+--------+------+--------------------+------+----+-----+-----+--------+--------+---------------+--------+\n",
      "only showing top 20 rows\n",
      "\n"
     ]
    }
   ],
   "source": [
    "sql.sql(\"SELECT * FROM Titanic ORDER BY Fare DESC\").show()"
   ]
  },
  {
   "cell_type": "markdown",
   "metadata": {},
   "source": [
    "# Limit"
   ]
  },
  {
   "cell_type": "code",
   "execution_count": 25,
   "metadata": {},
   "outputs": [
    {
     "name": "stdout",
     "output_type": "stream",
     "text": [
      "+-----------+--------+------+--------------------+------+----+-----+-----+--------+--------+-----------+--------+\n",
      "|PassengerId|Survived|Pclass|                Name|   Sex| Age|SibSp|Parch|  Ticket|    Fare|      Cabin|Embarked|\n",
      "+-----------+--------+------+--------------------+------+----+-----+-----+--------+--------+-----------+--------+\n",
      "|        259|       1|     1|    Ward, Miss. Anna|female|35.0|    0|    0|PC 17755|512.3292|       null|       C|\n",
      "|        680|       1|     1|Cardeza, Mr. Thom...|  male|36.0|    0|    1|PC 17755|512.3292|B51 B53 B55|       C|\n",
      "+-----------+--------+------+--------------------+------+----+-----+-----+--------+--------+-----------+--------+\n",
      "\n"
     ]
    }
   ],
   "source": [
    "sql.sql(\"SELECT * FROM Titanic ORDER BY Fare DESC LIMIT 2\").show()"
   ]
  },
  {
   "cell_type": "markdown",
   "metadata": {},
   "source": [
    "# Group By"
   ]
  },
  {
   "cell_type": "code",
   "execution_count": 26,
   "metadata": {},
   "outputs": [
    {
     "name": "stdout",
     "output_type": "stream",
     "text": [
      "+------+--------+------------------+\n",
      "|   Sex|Embarked|          avg(Age)|\n",
      "+------+--------+------------------+\n",
      "|  male|       C| 32.99884057971015|\n",
      "|  male|       S|30.291440217391305|\n",
      "|female|       Q|24.291666666666668|\n",
      "|female|    null|              50.0|\n",
      "|female|       S|27.771505376344088|\n",
      "|  male|       Q|           30.9375|\n",
      "|female|       C| 28.34426229508197|\n",
      "+------+--------+------------------+\n",
      "\n"
     ]
    }
   ],
   "source": [
    "sql.sql(\"SELECT Sex, Embarked, AVG(Age) FROM Titanic GROUP BY Sex, Embarked\").show()"
   ]
  },
  {
   "cell_type": "code",
   "execution_count": 27,
   "metadata": {},
   "outputs": [
    {
     "name": "stdout",
     "output_type": "stream",
     "text": [
      "+------+------------------+\n",
      "|   Sex|               Avg|\n",
      "+------+------------------+\n",
      "|female|24.291666666666668|\n",
      "|female|27.771505376344088|\n",
      "|female| 28.34426229508197|\n",
      "|  male|30.291440217391305|\n",
      "|  male|           30.9375|\n",
      "|  male| 32.99884057971015|\n",
      "|female|              50.0|\n",
      "+------+------------------+\n",
      "\n"
     ]
    }
   ],
   "source": [
    "sql.sql(\"SELECT Sex, AVG(Age) AS Avg FROM Titanic GROUP BY Sex, Embarked ORDER BY Avg\").show()"
   ]
  },
  {
   "cell_type": "code",
   "execution_count": 28,
   "metadata": {},
   "outputs": [
    {
     "name": "stdout",
     "output_type": "stream",
     "text": [
      "+------+--------+------------------+--------+\n",
      "|   Sex|Embarked|          avg(Age)|count(1)|\n",
      "+------+--------+------------------+--------+\n",
      "|  male|       C| 32.99884057971015|      95|\n",
      "|  male|       S|30.291440217391305|     441|\n",
      "|female|       Q|24.291666666666668|      36|\n",
      "|female|    null|              50.0|       2|\n",
      "|female|       S|27.771505376344088|     203|\n",
      "|  male|       Q|           30.9375|      41|\n",
      "|female|       C| 28.34426229508197|      73|\n",
      "+------+--------+------------------+--------+\n",
      "\n"
     ]
    }
   ],
   "source": [
    "sql.sql(\"SELECT Sex, Embarked, AVG(Age), Count(*) FROM Titanic GROUP BY Sex, Embarked\").show()"
   ]
  },
  {
   "cell_type": "markdown",
   "metadata": {},
   "source": [
    "# HAVING\n",
    "The HAVING clause was added to SQL because the WHERE keyword could not be used with aggregate functions."
   ]
  },
  {
   "cell_type": "code",
   "execution_count": 29,
   "metadata": {},
   "outputs": [
    {
     "name": "stdout",
     "output_type": "stream",
     "text": [
      "+--------+-----------------+--------+\n",
      "|Embarked|         avg(Age)|count(1)|\n",
      "+--------+-----------------+--------+\n",
      "|       C|30.81476923076923|     168|\n",
      "|       S|29.44539711191336|     644|\n",
      "+--------+-----------------+--------+\n",
      "\n"
     ]
    }
   ],
   "source": [
    "sql.sql(\"SELECT Embarked, AVG(Age), COUNT(*) FROM Titanic GROUP BY Embarked HAVING COUNT(Embarked) > 100\").show()"
   ]
  },
  {
   "cell_type": "markdown",
   "metadata": {},
   "source": [
    "Performance wise Having is slower than Where because where first filters rows and then groups"
   ]
  },
  {
   "cell_type": "code",
   "execution_count": 30,
   "metadata": {},
   "outputs": [
    {
     "name": "stdout",
     "output_type": "stream",
     "text": [
      "+--------+-----------------+\n",
      "|Embarked|         avg(Age)|\n",
      "+--------+-----------------+\n",
      "|       C|30.81476923076923|\n",
      "|       S|29.44539711191336|\n",
      "+--------+-----------------+\n",
      "\n",
      "+--------+-----------------+\n",
      "|Embarked|         avg(Age)|\n",
      "+--------+-----------------+\n",
      "|       C|30.81476923076923|\n",
      "|       S|29.44539711191336|\n",
      "+--------+-----------------+\n",
      "\n"
     ]
    }
   ],
   "source": [
    "sql.sql(\"SELECT Embarked, AVG(Age) FROM Titanic WHERE Embarked IN ('C','S') GROUP BY Embarked\").show()\n",
    "\n",
    "sql.sql(\"SELECT Embarked, AVG(Age) FROM Titanic GROUP BY Embarked HAVING Embarked IN ('C','S')\").show()"
   ]
  },
  {
   "cell_type": "markdown",
   "metadata": {},
   "source": [
    "# OVER"
   ]
  },
  {
   "cell_type": "markdown",
   "metadata": {},
   "source": [
    "Needed because we want aggregated and non aaggregated data"
   ]
  },
  {
   "cell_type": "raw",
   "metadata": {},
   "source": [
    "-- Syntax for SQL Server, Azure SQL Database, and Azure SQL Data Warehouse  \n",
    "  \n",
    "OVER (   \n",
    "       [ <PARTITION BY clause> ]  \n",
    "       [ <ORDER BY clause> ]   \n",
    "       [ <ROW or RANGE clause> ]  \n",
    "      )  \n",
    "  \n",
    "<PARTITION BY clause> ::=  \n",
    "PARTITION BY value_expression , ... [ n ]  \n",
    "  \n",
    "<ORDER BY clause> ::=  \n",
    "ORDER BY order_by_expression  \n",
    "    [ COLLATE collation_name ]   \n",
    "    [ ASC | DESC ]   \n",
    "    [ ,...n ]  \n",
    "  \n",
    "<ROW or RANGE clause> ::=  \n",
    "{ ROWS | RANGE } <window frame extent>  \n",
    "  \n",
    "<window frame extent> ::=   \n",
    "{   <window frame preceding>  \n",
    "  | <window frame between>  \n",
    "}  \n",
    "<window frame between> ::=   \n",
    "  BETWEEN <window frame bound> AND <window frame bound>  \n",
    "  \n",
    "<window frame bound> ::=   \n",
    "{   <window frame preceding>  \n",
    "  | <window frame following>  \n",
    "}  \n",
    "  \n",
    "<window frame preceding> ::=   \n",
    "{  \n",
    "    UNBOUNDED PRECEDING  \n",
    "  | <unsigned_value_specification> PRECEDING  \n",
    "  | CURRENT ROW  \n",
    "}  \n",
    "  \n",
    "<window frame following> ::=   \n",
    "{  \n",
    "    UNBOUNDED FOLLOWING  \n",
    "  | <unsigned_value_specification> FOLLOWING  \n",
    "  | CURRENT ROW  \n",
    "}  \n",
    "  \n",
    "<unsigned value specification> ::=   \n",
    "{  <unsigned integer literal> }"
   ]
  },
  {
   "cell_type": "code",
   "execution_count": 31,
   "metadata": {},
   "outputs": [
    {
     "name": "stdout",
     "output_type": "stream",
     "text": [
      "+--------+------+-------------------------------------------------------------------------------------------+\n",
      "|Embarked|   Sex|count(Sex) OVER (PARTITION BY Sex ROWS BETWEEN UNBOUNDED PRECEDING AND UNBOUNDED FOLLOWING)|\n",
      "+--------+------+-------------------------------------------------------------------------------------------+\n",
      "|       C|female|                                                                                        314|\n",
      "|       S|female|                                                                                        314|\n",
      "|       S|female|                                                                                        314|\n",
      "|       S|female|                                                                                        314|\n",
      "|       C|female|                                                                                        314|\n",
      "|       S|female|                                                                                        314|\n",
      "|       S|female|                                                                                        314|\n",
      "|       S|female|                                                                                        314|\n",
      "|       S|female|                                                                                        314|\n",
      "|       S|female|                                                                                        314|\n",
      "|       C|female|                                                                                        314|\n",
      "|       Q|female|                                                                                        314|\n",
      "|       S|female|                                                                                        314|\n",
      "|       S|female|                                                                                        314|\n",
      "|       Q|female|                                                                                        314|\n",
      "|       C|female|                                                                                        314|\n",
      "|       Q|female|                                                                                        314|\n",
      "|       S|female|                                                                                        314|\n",
      "|       C|female|                                                                                        314|\n",
      "|       S|female|                                                                                        314|\n",
      "+--------+------+-------------------------------------------------------------------------------------------+\n",
      "only showing top 20 rows\n",
      "\n"
     ]
    }
   ],
   "source": [
    "sql.sql('SELECT Embarked, Sex, COUNT(Sex) OVER(PARTITION BY Sex) FROM Titanic').show()"
   ]
  },
  {
   "cell_type": "code",
   "execution_count": 32,
   "metadata": {},
   "outputs": [
    {
     "name": "stdout",
     "output_type": "stream",
     "text": [
      "+-----------------+--------------------+\n",
      "|           AvgAge|                Name|\n",
      "+-----------------+--------------------+\n",
      "|29.69911764705882|Braund, Mr. Owen ...|\n",
      "|29.69911764705882|Cumings, Mrs. Joh...|\n",
      "|29.69911764705882|Heikkinen, Miss. ...|\n",
      "|29.69911764705882|Futrelle, Mrs. Ja...|\n",
      "|29.69911764705882|Allen, Mr. Willia...|\n",
      "|29.69911764705882|    Moran, Mr. James|\n",
      "|29.69911764705882|McCarthy, Mr. Tim...|\n",
      "|29.69911764705882|Palsson, Master. ...|\n",
      "|29.69911764705882|Johnson, Mrs. Osc...|\n",
      "|29.69911764705882|Nasser, Mrs. Nich...|\n",
      "|29.69911764705882|Sandstrom, Miss. ...|\n",
      "|29.69911764705882|Bonnell, Miss. El...|\n",
      "|29.69911764705882|Saundercock, Mr. ...|\n",
      "|29.69911764705882|Andersson, Mr. An...|\n",
      "|29.69911764705882|Vestrom, Miss. Hu...|\n",
      "|29.69911764705882|Hewlett, Mrs. (Ma...|\n",
      "|29.69911764705882|Rice, Master. Eugene|\n",
      "|29.69911764705882|Williams, Mr. Cha...|\n",
      "|29.69911764705882|Vander Planke, Mr...|\n",
      "|29.69911764705882|Masselmani, Mrs. ...|\n",
      "+-----------------+--------------------+\n",
      "only showing top 20 rows\n",
      "\n"
     ]
    }
   ],
   "source": [
    "sql.sql('SELECT AVG(Age) OVER() AS AvgAge, Name FROM Titanic').show()"
   ]
  },
  {
   "cell_type": "code",
   "execution_count": 33,
   "metadata": {},
   "outputs": [
    {
     "name": "stdout",
     "output_type": "stream",
     "text": [
      "+-----------------+--------+-----------+--------+------+--------------------+------+----+-----+-----+----------------+-------+-----+--------+\n",
      "|           AvgAge|EmbCount|PassengerId|Survived|Pclass|                Name|   Sex| Age|SibSp|Parch|          Ticket|   Fare|Cabin|Embarked|\n",
      "+-----------------+--------+-----------+--------+------+--------------------+------+----+-----+-----+----------------+-------+-----+--------+\n",
      "|29.69911764705882|     889|          1|       0|     3|Braund, Mr. Owen ...|  male|22.0|    1|    0|       A/5 21171|   7.25| null|       S|\n",
      "|29.69911764705882|     889|          2|       1|     1|Cumings, Mrs. Joh...|female|38.0|    1|    0|        PC 17599|71.2833|  C85|       C|\n",
      "|29.69911764705882|     889|          3|       1|     3|Heikkinen, Miss. ...|female|26.0|    0|    0|STON/O2. 3101282|  7.925| null|       S|\n",
      "|29.69911764705882|     889|          4|       1|     1|Futrelle, Mrs. Ja...|female|35.0|    1|    0|          113803|   53.1| C123|       S|\n",
      "|29.69911764705882|     889|          5|       0|     3|Allen, Mr. Willia...|  male|35.0|    0|    0|          373450|   8.05| null|       S|\n",
      "|29.69911764705882|     889|          6|       0|     3|    Moran, Mr. James|  male|null|    0|    0|          330877| 8.4583| null|       Q|\n",
      "|29.69911764705882|     889|          7|       0|     1|McCarthy, Mr. Tim...|  male|54.0|    0|    0|           17463|51.8625|  E46|       S|\n",
      "|29.69911764705882|     889|          8|       0|     3|Palsson, Master. ...|  male| 2.0|    3|    1|          349909| 21.075| null|       S|\n",
      "|29.69911764705882|     889|          9|       1|     3|Johnson, Mrs. Osc...|female|27.0|    0|    2|          347742|11.1333| null|       S|\n",
      "|29.69911764705882|     889|         10|       1|     2|Nasser, Mrs. Nich...|female|14.0|    1|    0|          237736|30.0708| null|       C|\n",
      "|29.69911764705882|     889|         11|       1|     3|Sandstrom, Miss. ...|female| 4.0|    1|    1|         PP 9549|   16.7|   G6|       S|\n",
      "|29.69911764705882|     889|         12|       1|     1|Bonnell, Miss. El...|female|58.0|    0|    0|          113783|  26.55| C103|       S|\n",
      "|29.69911764705882|     889|         13|       0|     3|Saundercock, Mr. ...|  male|20.0|    0|    0|       A/5. 2151|   8.05| null|       S|\n",
      "|29.69911764705882|     889|         14|       0|     3|Andersson, Mr. An...|  male|39.0|    1|    5|          347082| 31.275| null|       S|\n",
      "|29.69911764705882|     889|         15|       0|     3|Vestrom, Miss. Hu...|female|14.0|    0|    0|          350406| 7.8542| null|       S|\n",
      "|29.69911764705882|     889|         16|       1|     2|Hewlett, Mrs. (Ma...|female|55.0|    0|    0|          248706|   16.0| null|       S|\n",
      "|29.69911764705882|     889|         17|       0|     3|Rice, Master. Eugene|  male| 2.0|    4|    1|          382652| 29.125| null|       Q|\n",
      "|29.69911764705882|     889|         18|       1|     2|Williams, Mr. Cha...|  male|null|    0|    0|          244373|   13.0| null|       S|\n",
      "|29.69911764705882|     889|         19|       0|     3|Vander Planke, Mr...|female|31.0|    1|    0|          345763|   18.0| null|       S|\n",
      "|29.69911764705882|     889|         20|       1|     3|Masselmani, Mrs. ...|female|null|    0|    0|            2649|  7.225| null|       C|\n",
      "+-----------------+--------+-----------+--------+------+--------------------+------+----+-----+-----+----------------+-------+-----+--------+\n",
      "only showing top 20 rows\n",
      "\n"
     ]
    }
   ],
   "source": [
    "sql.sql('SELECT AVG(Age) OVER() AS AvgAge, Count(Embarked) OVER() AS EmbCount, * FROM Titanic').show()"
   ]
  },
  {
   "cell_type": "code",
   "execution_count": 34,
   "metadata": {},
   "outputs": [
    {
     "name": "stdout",
     "output_type": "stream",
     "text": [
      "+-----------------+------------------+--------------------+\n",
      "|           AvgAge|           AgeDiff|                Name|\n",
      "+-----------------+------------------+--------------------+\n",
      "|29.69911764705882|  7.69911764705882|Braund, Mr. Owen ...|\n",
      "|29.69911764705882| -8.30088235294118|Cumings, Mrs. Joh...|\n",
      "|29.69911764705882|  3.69911764705882|Heikkinen, Miss. ...|\n",
      "|29.69911764705882| -5.30088235294118|Futrelle, Mrs. Ja...|\n",
      "|29.69911764705882| -5.30088235294118|Allen, Mr. Willia...|\n",
      "|29.69911764705882|              null|    Moran, Mr. James|\n",
      "|29.69911764705882|-24.30088235294118|McCarthy, Mr. Tim...|\n",
      "|29.69911764705882| 27.69911764705882|Palsson, Master. ...|\n",
      "|29.69911764705882|  2.69911764705882|Johnson, Mrs. Osc...|\n",
      "|29.69911764705882| 15.69911764705882|Nasser, Mrs. Nich...|\n",
      "|29.69911764705882| 25.69911764705882|Sandstrom, Miss. ...|\n",
      "|29.69911764705882|-28.30088235294118|Bonnell, Miss. El...|\n",
      "|29.69911764705882|  9.69911764705882|Saundercock, Mr. ...|\n",
      "|29.69911764705882| -9.30088235294118|Andersson, Mr. An...|\n",
      "|29.69911764705882| 15.69911764705882|Vestrom, Miss. Hu...|\n",
      "|29.69911764705882|-25.30088235294118|Hewlett, Mrs. (Ma...|\n",
      "|29.69911764705882| 27.69911764705882|Rice, Master. Eugene|\n",
      "|29.69911764705882|              null|Williams, Mr. Cha...|\n",
      "|29.69911764705882| -1.30088235294118|Vander Planke, Mr...|\n",
      "|29.69911764705882|              null|Masselmani, Mrs. ...|\n",
      "+-----------------+------------------+--------------------+\n",
      "only showing top 20 rows\n",
      "\n"
     ]
    }
   ],
   "source": [
    "sql.sql('SELECT AVG(Age) OVER() AS AvgAge, AVG(Age) OVER() - Age AS AgeDiff, Name FROM Titanic').show()"
   ]
  },
  {
   "cell_type": "code",
   "execution_count": 35,
   "metadata": {},
   "outputs": [
    {
     "name": "stdout",
     "output_type": "stream",
     "text": [
      "+--------+---+----------+\n",
      "|Embarked|NUM|TotalCount|\n",
      "+--------+---+----------+\n",
      "|    null|  2|       891|\n",
      "|       C|168|       891|\n",
      "|       Q| 77|       891|\n",
      "|       S|644|       891|\n",
      "+--------+---+----------+\n",
      "\n"
     ]
    }
   ],
   "source": [
    "sql.sql('SELECT DISTINCT Embarked, COUNT(1) OVER(PARTITION BY Embarked) AS NUM, COUNT(1) OVER() AS TotalCount FROM Titanic').show()"
   ]
  },
  {
   "cell_type": "code",
   "execution_count": 36,
   "metadata": {},
   "outputs": [
    {
     "name": "stdout",
     "output_type": "stream",
     "text": [
      "+-----------+------------------+----------+\n",
      "|PassengerId|        FareCumSum|TotalCount|\n",
      "+-----------+------------------+----------+\n",
      "|          1|              7.25|       891|\n",
      "|          2|           78.5333|       891|\n",
      "|          3|           86.4583|       891|\n",
      "|          4|          139.5583|       891|\n",
      "|          5|          147.6083|       891|\n",
      "|          6|156.06660000000002|       891|\n",
      "|          7|          207.9291|       891|\n",
      "|          8|          229.0041|       891|\n",
      "|          9|240.13739999999999|       891|\n",
      "|         10|          270.2082|       891|\n",
      "|         11|286.90819999999997|       891|\n",
      "|         12|          313.4582|       891|\n",
      "|         13|          321.5082|       891|\n",
      "|         14|352.78319999999997|       891|\n",
      "|         15|360.63739999999996|       891|\n",
      "|         16|376.63739999999996|       891|\n",
      "|         17|405.76239999999996|       891|\n",
      "|         18|418.76239999999996|       891|\n",
      "|         19|436.76239999999996|       891|\n",
      "|         20|          443.9874|       891|\n",
      "+-----------+------------------+----------+\n",
      "only showing top 20 rows\n",
      "\n"
     ]
    }
   ],
   "source": [
    "sql.sql('SELECT PassengerId, SUM(Fare) OVER(ORDER BY PassengerId) AS FareCumSum, COUNT(1) OVER() AS TotalCount FROM Titanic').show()"
   ]
  },
  {
   "cell_type": "markdown",
   "metadata": {},
   "source": [
    "# JOIN"
   ]
  },
  {
   "cell_type": "code",
   "execution_count": 50,
   "metadata": {},
   "outputs": [
    {
     "name": "stdout",
     "output_type": "stream",
     "text": [
      "+---+---+\n",
      "|age| id|\n",
      "+---+---+\n",
      "| 25|  1|\n",
      "| 22|  2|\n",
      "| 20|  3|\n",
      "| 26|  4|\n",
      "+---+---+\n",
      "\n"
     ]
    }
   ],
   "source": [
    "from pyspark.sql import Row\n",
    "\n",
    "l = [(1,25),(2,22),(3,20),(4,26)]\n",
    "rdd = sc.parallelize(l)\n",
    "people = rdd.map(lambda x: Row(id=x[0], age=int(x[1])))\n",
    "leftDF = sql.createDataFrame(people)\n",
    "leftDF.registerTempTable('leftDF')\n",
    "leftDF.show()"
   ]
  },
  {
   "cell_type": "code",
   "execution_count": 51,
   "metadata": {},
   "outputs": [
    {
     "name": "stdout",
     "output_type": "stream",
     "text": [
      "+---+------+\n",
      "| id|salary|\n",
      "+---+------+\n",
      "|  2|100000|\n",
      "|  3| 95000|\n",
      "|  4|120000|\n",
      "|  5|110000|\n",
      "+---+------+\n",
      "\n"
     ]
    }
   ],
   "source": [
    "l = [(2,100000),(3,95000),(4,120000),(5,110000)]\n",
    "rdd = sc.parallelize(l)\n",
    "people = rdd.map(lambda x: Row(id=x[0], salary=int(x[1])))\n",
    "rightDF = sql.createDataFrame(people)\n",
    "rightDF.registerTempTable('rightDF')\n",
    "rightDF.show()"
   ]
  },
  {
   "cell_type": "markdown",
   "metadata": {},
   "source": [
    "# Inner Join"
   ]
  },
  {
   "cell_type": "code",
   "execution_count": 43,
   "metadata": {},
   "outputs": [
    {
     "name": "stdout",
     "output_type": "stream",
     "text": [
      "+---+---+---+------+\n",
      "|age| id| id|salary|\n",
      "+---+---+---+------+\n",
      "| 20|  3|  3| 95000|\n",
      "| 22|  2|  2|100000|\n",
      "| 26|  4|  4|120000|\n",
      "+---+---+---+------+\n",
      "\n"
     ]
    }
   ],
   "source": [
    "sql.sql('SELECT * FROM leftDF INNER JOIN rightDF ON leftDF.id = rightDF.id').show()"
   ]
  },
  {
   "cell_type": "markdown",
   "metadata": {},
   "source": [
    "# Left Outer Join"
   ]
  },
  {
   "cell_type": "code",
   "execution_count": 44,
   "metadata": {},
   "outputs": [
    {
     "name": "stdout",
     "output_type": "stream",
     "text": [
      "+---+---+----+------+\n",
      "|age| id|  id|salary|\n",
      "+---+---+----+------+\n",
      "| 25|  1|null|  null|\n",
      "| 20|  3|   3| 95000|\n",
      "| 22|  2|   2|100000|\n",
      "| 26|  4|   4|120000|\n",
      "+---+---+----+------+\n",
      "\n"
     ]
    }
   ],
   "source": [
    "sql.sql('SELECT * FROM leftDF LEFT OUTER JOIN rightDF ON leftDF.id = rightDF.id').show()"
   ]
  },
  {
   "cell_type": "markdown",
   "metadata": {},
   "source": [
    "# Right Outer Join"
   ]
  },
  {
   "cell_type": "code",
   "execution_count": 45,
   "metadata": {},
   "outputs": [
    {
     "name": "stdout",
     "output_type": "stream",
     "text": [
      "+----+----+---+------+\n",
      "| age|  id| id|salary|\n",
      "+----+----+---+------+\n",
      "|null|null|  5|110000|\n",
      "|  20|   3|  3| 95000|\n",
      "|  22|   2|  2|100000|\n",
      "|  26|   4|  4|120000|\n",
      "+----+----+---+------+\n",
      "\n"
     ]
    }
   ],
   "source": [
    "sql.sql('SELECT * FROM leftDF RIGHT OUTER JOIN rightDF ON leftDF.id = rightDF.id').show()"
   ]
  },
  {
   "cell_type": "markdown",
   "metadata": {},
   "source": [
    "# Full Outer Join"
   ]
  },
  {
   "cell_type": "code",
   "execution_count": 46,
   "metadata": {},
   "outputs": [
    {
     "name": "stdout",
     "output_type": "stream",
     "text": [
      "+----+----+----+------+\n",
      "| age|  id|  id|salary|\n",
      "+----+----+----+------+\n",
      "|null|null|   5|110000|\n",
      "|  25|   1|null|  null|\n",
      "|  20|   3|   3| 95000|\n",
      "|  22|   2|   2|100000|\n",
      "|  26|   4|   4|120000|\n",
      "+----+----+----+------+\n",
      "\n"
     ]
    }
   ],
   "source": [
    "sql.sql('SELECT * FROM leftDF FULL OUTER JOIN rightDF ON leftDF.id = rightDF.id').show()"
   ]
  },
  {
   "cell_type": "markdown",
   "metadata": {},
   "source": [
    "# Cross Join"
   ]
  },
  {
   "cell_type": "code",
   "execution_count": 47,
   "metadata": {},
   "outputs": [
    {
     "name": "stdout",
     "output_type": "stream",
     "text": [
      "+---+---+---+------+\n",
      "|age| id| id|salary|\n",
      "+---+---+---+------+\n",
      "| 25|  1|  2|100000|\n",
      "| 25|  1|  3| 95000|\n",
      "| 25|  1|  4|120000|\n",
      "| 25|  1|  5|110000|\n",
      "| 22|  2|  2|100000|\n",
      "| 22|  2|  3| 95000|\n",
      "| 22|  2|  4|120000|\n",
      "| 22|  2|  5|110000|\n",
      "| 20|  3|  2|100000|\n",
      "| 20|  3|  3| 95000|\n",
      "| 20|  3|  4|120000|\n",
      "| 20|  3|  5|110000|\n",
      "| 26|  4|  2|100000|\n",
      "| 26|  4|  3| 95000|\n",
      "| 26|  4|  4|120000|\n",
      "| 26|  4|  5|110000|\n",
      "+---+---+---+------+\n",
      "\n"
     ]
    }
   ],
   "source": [
    "sql.sql('SELECT * FROM leftDF CROSS JOIN rightDF').show()"
   ]
  },
  {
   "cell_type": "markdown",
   "metadata": {},
   "source": [
    "# Self Join"
   ]
  },
  {
   "cell_type": "code",
   "execution_count": 49,
   "metadata": {},
   "outputs": [
    {
     "name": "stdout",
     "output_type": "stream",
     "text": [
      "+---+---+---+---+\n",
      "|age| id|age| id|\n",
      "+---+---+---+---+\n",
      "| 25|  1| 22|  2|\n",
      "| 25|  1| 20|  3|\n",
      "| 22|  2| 20|  3|\n",
      "| 26|  4| 25|  1|\n",
      "| 26|  4| 22|  2|\n",
      "| 26|  4| 20|  3|\n",
      "+---+---+---+---+\n",
      "\n"
     ]
    }
   ],
   "source": [
    "sql.sql('SELECT * FROM leftDF a, leftDF b WHERE a.age > b.age').show()"
   ]
  },
  {
   "cell_type": "code",
   "execution_count": null,
   "metadata": {},
   "outputs": [],
   "source": []
  }
 ],
 "metadata": {
  "kernelspec": {
   "display_name": "Python 3",
   "language": "python",
   "name": "python3"
  },
  "language_info": {
   "codemirror_mode": {
    "name": "ipython",
    "version": 3
   },
   "file_extension": ".py",
   "mimetype": "text/x-python",
   "name": "python",
   "nbconvert_exporter": "python",
   "pygments_lexer": "ipython3",
   "version": "3.6.5"
  }
 },
 "nbformat": 4,
 "nbformat_minor": 2
}
